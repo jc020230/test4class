{
  "cells": [
    {
      "cell_type": "markdown",
      "metadata": {
        "id": "view-in-github",
        "colab_type": "text"
      },
      "source": [
        "<a href=\"https://colab.research.google.com/github/jc020230/test4class/blob/main/week5_i.ipynb\" target=\"_parent\"><img src=\"https://colab.research.google.com/assets/colab-badge.svg\" alt=\"Open In Colab\"/></a>"
      ]
    },
    {
      "cell_type": "markdown",
      "metadata": {
        "id": "JwFahaweBKIR"
      },
      "source": [
        "This is a companion notebook for the book [Deep Learning with Python, Second Edition](https://www.manning.com/books/deep-learning-with-python-second-edition?a_aid=keras&a_bid=76564dff). For readability, it only contains runnable code blocks and section titles, and omits everything else in the book: text paragraphs, figures, and pseudocode.\n",
        "\n",
        "**If you want to be able to follow what's going on, I recommend reading the notebook side by side with your copy of the book.**\n",
        "\n",
        "This notebook was generated for TensorFlow 2.6."
      ]
    },
    {
      "cell_type": "markdown",
      "metadata": {
        "id": "d7lfDMaOBKIT"
      },
      "source": [
        "# Getting started with neural networks: Classification and regression"
      ]
    },
    {
      "cell_type": "markdown",
      "metadata": {
        "id": "YuRnB5p3BKIU"
      },
      "source": [
        "## Classifying movie reviews: A binary classification example"
      ]
    },
    {
      "cell_type": "markdown",
      "metadata": {
        "id": "sndqnc4bBKIU"
      },
      "source": [
        "### The IMDB dataset"
      ]
    },
    {
      "cell_type": "markdown",
      "metadata": {
        "id": "f9FxGvTjBKIU"
      },
      "source": [
        "**Loading the IMDB dataset**"
      ]
    },
    {
      "cell_type": "code",
      "execution_count": 1,
      "metadata": {
        "id": "Xb90haszBKIU"
      },
      "outputs": [],
      "source": [
        "from tensorflow.keras.datasets import imdb\n",
        "(train_data, train_labels), (test_data, test_labels) = imdb.load_data(\n",
        "    num_words=10000)"
      ]
    },
    {
      "cell_type": "code",
      "execution_count": 2,
      "metadata": {
        "id": "ukYnlkJ3BKIV",
        "colab": {
          "base_uri": "https://localhost:8080/"
        },
        "outputId": "16b48ba8-0ae1-45ff-c8fe-19292709874c"
      },
      "outputs": [
        {
          "output_type": "execute_result",
          "data": {
            "text/plain": [
              "[1,\n",
              " 14,\n",
              " 22,\n",
              " 16,\n",
              " 43,\n",
              " 530,\n",
              " 973,\n",
              " 1622,\n",
              " 1385,\n",
              " 65,\n",
              " 458,\n",
              " 4468,\n",
              " 66,\n",
              " 3941,\n",
              " 4,\n",
              " 173,\n",
              " 36,\n",
              " 256,\n",
              " 5,\n",
              " 25,\n",
              " 100,\n",
              " 43,\n",
              " 838,\n",
              " 112,\n",
              " 50,\n",
              " 670,\n",
              " 2,\n",
              " 9,\n",
              " 35,\n",
              " 480,\n",
              " 284,\n",
              " 5,\n",
              " 150,\n",
              " 4,\n",
              " 172,\n",
              " 112,\n",
              " 167,\n",
              " 2,\n",
              " 336,\n",
              " 385,\n",
              " 39,\n",
              " 4,\n",
              " 172,\n",
              " 4536,\n",
              " 1111,\n",
              " 17,\n",
              " 546,\n",
              " 38,\n",
              " 13,\n",
              " 447,\n",
              " 4,\n",
              " 192,\n",
              " 50,\n",
              " 16,\n",
              " 6,\n",
              " 147,\n",
              " 2025,\n",
              " 19,\n",
              " 14,\n",
              " 22,\n",
              " 4,\n",
              " 1920,\n",
              " 4613,\n",
              " 469,\n",
              " 4,\n",
              " 22,\n",
              " 71,\n",
              " 87,\n",
              " 12,\n",
              " 16,\n",
              " 43,\n",
              " 530,\n",
              " 38,\n",
              " 76,\n",
              " 15,\n",
              " 13,\n",
              " 1247,\n",
              " 4,\n",
              " 22,\n",
              " 17,\n",
              " 515,\n",
              " 17,\n",
              " 12,\n",
              " 16,\n",
              " 626,\n",
              " 18,\n",
              " 2,\n",
              " 5,\n",
              " 62,\n",
              " 386,\n",
              " 12,\n",
              " 8,\n",
              " 316,\n",
              " 8,\n",
              " 106,\n",
              " 5,\n",
              " 4,\n",
              " 2223,\n",
              " 5244,\n",
              " 16,\n",
              " 480,\n",
              " 66,\n",
              " 3785,\n",
              " 33,\n",
              " 4,\n",
              " 130,\n",
              " 12,\n",
              " 16,\n",
              " 38,\n",
              " 619,\n",
              " 5,\n",
              " 25,\n",
              " 124,\n",
              " 51,\n",
              " 36,\n",
              " 135,\n",
              " 48,\n",
              " 25,\n",
              " 1415,\n",
              " 33,\n",
              " 6,\n",
              " 22,\n",
              " 12,\n",
              " 215,\n",
              " 28,\n",
              " 77,\n",
              " 52,\n",
              " 5,\n",
              " 14,\n",
              " 407,\n",
              " 16,\n",
              " 82,\n",
              " 2,\n",
              " 8,\n",
              " 4,\n",
              " 107,\n",
              " 117,\n",
              " 5952,\n",
              " 15,\n",
              " 256,\n",
              " 4,\n",
              " 2,\n",
              " 7,\n",
              " 3766,\n",
              " 5,\n",
              " 723,\n",
              " 36,\n",
              " 71,\n",
              " 43,\n",
              " 530,\n",
              " 476,\n",
              " 26,\n",
              " 400,\n",
              " 317,\n",
              " 46,\n",
              " 7,\n",
              " 4,\n",
              " 2,\n",
              " 1029,\n",
              " 13,\n",
              " 104,\n",
              " 88,\n",
              " 4,\n",
              " 381,\n",
              " 15,\n",
              " 297,\n",
              " 98,\n",
              " 32,\n",
              " 2071,\n",
              " 56,\n",
              " 26,\n",
              " 141,\n",
              " 6,\n",
              " 194,\n",
              " 7486,\n",
              " 18,\n",
              " 4,\n",
              " 226,\n",
              " 22,\n",
              " 21,\n",
              " 134,\n",
              " 476,\n",
              " 26,\n",
              " 480,\n",
              " 5,\n",
              " 144,\n",
              " 30,\n",
              " 5535,\n",
              " 18,\n",
              " 51,\n",
              " 36,\n",
              " 28,\n",
              " 224,\n",
              " 92,\n",
              " 25,\n",
              " 104,\n",
              " 4,\n",
              " 226,\n",
              " 65,\n",
              " 16,\n",
              " 38,\n",
              " 1334,\n",
              " 88,\n",
              " 12,\n",
              " 16,\n",
              " 283,\n",
              " 5,\n",
              " 16,\n",
              " 4472,\n",
              " 113,\n",
              " 103,\n",
              " 32,\n",
              " 15,\n",
              " 16,\n",
              " 5345,\n",
              " 19,\n",
              " 178,\n",
              " 32]"
            ]
          },
          "metadata": {},
          "execution_count": 2
        }
      ],
      "source": [
        "train_data[0]"
      ]
    },
    {
      "cell_type": "code",
      "execution_count": 3,
      "metadata": {
        "id": "iRTdlrBEBKIV",
        "colab": {
          "base_uri": "https://localhost:8080/"
        },
        "outputId": "e51e42be-bde8-4398-a14d-b8bc88c319c8"
      },
      "outputs": [
        {
          "output_type": "execute_result",
          "data": {
            "text/plain": [
              "np.int64(1)"
            ]
          },
          "metadata": {},
          "execution_count": 3
        }
      ],
      "source": [
        "train_labels[0]"
      ]
    },
    {
      "cell_type": "code",
      "execution_count": 4,
      "metadata": {
        "id": "GqmHrGJZBKIW",
        "colab": {
          "base_uri": "https://localhost:8080/"
        },
        "outputId": "97224b07-9709-4840-9a6d-51b59dd11041"
      },
      "outputs": [
        {
          "output_type": "execute_result",
          "data": {
            "text/plain": [
              "9999"
            ]
          },
          "metadata": {},
          "execution_count": 4
        }
      ],
      "source": [
        "max([max(sequence) for sequence in train_data])"
      ]
    },
    {
      "cell_type": "markdown",
      "metadata": {
        "id": "B0OFLNEbBKIW"
      },
      "source": [
        "**Decoding reviews back to text**"
      ]
    },
    {
      "cell_type": "code",
      "execution_count": 5,
      "metadata": {
        "id": "QUe3TfSYBKIW",
        "colab": {
          "base_uri": "https://localhost:8080/"
        },
        "outputId": "9d347445-450c-4dfd-dca4-e049390ff8aa"
      },
      "outputs": [
        {
          "output_type": "stream",
          "name": "stdout",
          "text": [
            "Downloading data from https://storage.googleapis.com/tensorflow/tf-keras-datasets/imdb_word_index.json\n",
            "\u001b[1m1641221/1641221\u001b[0m \u001b[32m━━━━━━━━━━━━━━━━━━━━\u001b[0m\u001b[37m\u001b[0m \u001b[1m0s\u001b[0m 0us/step\n"
          ]
        }
      ],
      "source": [
        "word_index = imdb.get_word_index()\n",
        "reverse_word_index = dict(\n",
        "    [(value, key) for (key, value) in word_index.items()])\n",
        "decoded_review = \" \".join(\n",
        "    [reverse_word_index.get(i - 3, \"?\") for i in train_data[0]])"
      ]
    },
    {
      "cell_type": "markdown",
      "metadata": {
        "id": "lDjHZbqABKIW"
      },
      "source": [
        "### Preparing the data"
      ]
    },
    {
      "cell_type": "markdown",
      "metadata": {
        "id": "sr7c1astBKIW"
      },
      "source": [
        "**Encoding the integer sequences via multi-hot encoding**"
      ]
    },
    {
      "cell_type": "code",
      "execution_count": 6,
      "metadata": {
        "id": "5-Rgz--WBKIW"
      },
      "outputs": [],
      "source": [
        "import numpy as np\n",
        "def vectorize_sequences(sequences, dimension=10000):\n",
        "    results = np.zeros((len(sequences), dimension))\n",
        "    for i, sequence in enumerate(sequences):\n",
        "        for j in sequence:\n",
        "            results[i, j] = 1.\n",
        "    return results\n",
        "x_train = vectorize_sequences(train_data)\n",
        "x_test = vectorize_sequences(test_data)"
      ]
    },
    {
      "cell_type": "code",
      "execution_count": 7,
      "metadata": {
        "id": "V8rbFrpnBKIX",
        "colab": {
          "base_uri": "https://localhost:8080/"
        },
        "outputId": "773620f1-6b86-4433-938d-a98804a159a7"
      },
      "outputs": [
        {
          "output_type": "execute_result",
          "data": {
            "text/plain": [
              "array([0., 1., 1., ..., 0., 0., 0.])"
            ]
          },
          "metadata": {},
          "execution_count": 7
        }
      ],
      "source": [
        "x_train[0]"
      ]
    },
    {
      "cell_type": "code",
      "execution_count": 8,
      "metadata": {
        "id": "uQkSuOq8BKIX"
      },
      "outputs": [],
      "source": [
        "y_train = np.asarray(train_labels).astype(\"float32\")\n",
        "y_test = np.asarray(test_labels).astype(\"float32\")"
      ]
    },
    {
      "cell_type": "markdown",
      "metadata": {
        "id": "dGnEPJPxBKIX"
      },
      "source": [
        "### Building your model"
      ]
    },
    {
      "cell_type": "markdown",
      "metadata": {
        "id": "v9oTBr77BKIX"
      },
      "source": [
        "**Model definition**"
      ]
    },
    {
      "cell_type": "code",
      "source": [],
      "metadata": {
        "id": "0jfKCH-1UOF6"
      },
      "execution_count": 8,
      "outputs": []
    },
    {
      "cell_type": "code",
      "execution_count": 9,
      "metadata": {
        "id": "Vq1QKBxAUQZU"
      },
      "outputs": [],
      "source": [
        "from tensorflow import keras\n",
        "from tensorflow.keras import layers\n"
      ]
    },
    {
      "cell_type": "code",
      "execution_count": 10,
      "metadata": {
        "id": "Wvd_X320BKIX"
      },
      "outputs": [],
      "source": [
        "from tensorflow import keras\n",
        "from tensorflow.keras import layers\n",
        "\n",
        "model = keras.Sequential([\n",
        "    layers.Dense(16, activation=\"relu\"),\n",
        "    layers.Dense(16, activation=\"relu\"),\n",
        "    layers.Dense(1, activation=\"sigmoid\")\n",
        "])"
      ]
    },
    {
      "cell_type": "markdown",
      "metadata": {
        "id": "AenhMMXVBKIX"
      },
      "source": [
        "**Compiling the model**"
      ]
    },
    {
      "cell_type": "code",
      "execution_count": 11,
      "metadata": {
        "id": "e0PpZAibBKIX"
      },
      "outputs": [],
      "source": [
        "model.compile(optimizer=\"rmsprop\",\n",
        "              loss=\"binary_crossentropy\",\n",
        "              metrics=[\"accuracy\"])"
      ]
    },
    {
      "cell_type": "markdown",
      "metadata": {
        "id": "OfdRH7BfBKIX"
      },
      "source": [
        "### Validating your approach"
      ]
    },
    {
      "cell_type": "markdown",
      "metadata": {
        "id": "uHLcrnNHBKIY"
      },
      "source": [
        "**Setting aside a validation set**"
      ]
    },
    {
      "cell_type": "code",
      "execution_count": 12,
      "metadata": {
        "id": "8WobNFU-BKIY"
      },
      "outputs": [],
      "source": [
        "x_val = x_train[:10000]\n",
        "partial_x_train = x_train[10000:]\n",
        "y_val = y_train[:10000]\n",
        "partial_y_train = y_train[10000:]"
      ]
    },
    {
      "cell_type": "markdown",
      "metadata": {
        "id": "-uAkRwYOBKIY"
      },
      "source": [
        "**Training your model**"
      ]
    },
    {
      "cell_type": "code",
      "execution_count": 13,
      "metadata": {
        "id": "Nc0xIuAYBKIY",
        "colab": {
          "base_uri": "https://localhost:8080/"
        },
        "outputId": "f928b53f-9e7e-4e78-9bd1-3e986b6b3c10"
      },
      "outputs": [
        {
          "output_type": "stream",
          "name": "stdout",
          "text": [
            "Epoch 1/20\n",
            "\u001b[1m30/30\u001b[0m \u001b[32m━━━━━━━━━━━━━━━━━━━━\u001b[0m\u001b[37m\u001b[0m \u001b[1m6s\u001b[0m 115ms/step - accuracy: 0.6727 - loss: 0.6129 - val_accuracy: 0.8711 - val_loss: 0.3904\n",
            "Epoch 2/20\n",
            "\u001b[1m30/30\u001b[0m \u001b[32m━━━━━━━━━━━━━━━━━━━━\u001b[0m\u001b[37m\u001b[0m \u001b[1m1s\u001b[0m 23ms/step - accuracy: 0.8975 - loss: 0.3329 - val_accuracy: 0.8889 - val_loss: 0.3021\n",
            "Epoch 3/20\n",
            "\u001b[1m30/30\u001b[0m \u001b[32m━━━━━━━━━━━━━━━━━━━━\u001b[0m\u001b[37m\u001b[0m \u001b[1m1s\u001b[0m 21ms/step - accuracy: 0.9208 - loss: 0.2383 - val_accuracy: 0.8911 - val_loss: 0.2795\n",
            "Epoch 4/20\n",
            "\u001b[1m30/30\u001b[0m \u001b[32m━━━━━━━━━━━━━━━━━━━━\u001b[0m\u001b[37m\u001b[0m \u001b[1m1s\u001b[0m 25ms/step - accuracy: 0.9418 - loss: 0.1872 - val_accuracy: 0.8889 - val_loss: 0.2811\n",
            "Epoch 5/20\n",
            "\u001b[1m30/30\u001b[0m \u001b[32m━━━━━━━━━━━━━━━━━━━━\u001b[0m\u001b[37m\u001b[0m \u001b[1m2s\u001b[0m 38ms/step - accuracy: 0.9529 - loss: 0.1520 - val_accuracy: 0.8794 - val_loss: 0.2979\n",
            "Epoch 6/20\n",
            "\u001b[1m30/30\u001b[0m \u001b[32m━━━━━━━━━━━━━━━━━━━━\u001b[0m\u001b[37m\u001b[0m \u001b[1m1s\u001b[0m 22ms/step - accuracy: 0.9598 - loss: 0.1293 - val_accuracy: 0.8777 - val_loss: 0.3112\n",
            "Epoch 7/20\n",
            "\u001b[1m30/30\u001b[0m \u001b[32m━━━━━━━━━━━━━━━━━━━━\u001b[0m\u001b[37m\u001b[0m \u001b[1m1s\u001b[0m 20ms/step - accuracy: 0.9668 - loss: 0.1090 - val_accuracy: 0.8778 - val_loss: 0.3452\n",
            "Epoch 8/20\n",
            "\u001b[1m30/30\u001b[0m \u001b[32m━━━━━━━━━━━━━━━━━━━━\u001b[0m\u001b[37m\u001b[0m \u001b[1m1s\u001b[0m 23ms/step - accuracy: 0.9750 - loss: 0.0934 - val_accuracy: 0.8859 - val_loss: 0.3201\n",
            "Epoch 9/20\n",
            "\u001b[1m30/30\u001b[0m \u001b[32m━━━━━━━━━━━━━━━━━━━━\u001b[0m\u001b[37m\u001b[0m \u001b[1m1s\u001b[0m 20ms/step - accuracy: 0.9807 - loss: 0.0742 - val_accuracy: 0.8800 - val_loss: 0.3321\n",
            "Epoch 10/20\n",
            "\u001b[1m30/30\u001b[0m \u001b[32m━━━━━━━━━━━━━━━━━━━━\u001b[0m\u001b[37m\u001b[0m \u001b[1m1s\u001b[0m 21ms/step - accuracy: 0.9844 - loss: 0.0648 - val_accuracy: 0.8699 - val_loss: 0.3780\n",
            "Epoch 11/20\n",
            "\u001b[1m30/30\u001b[0m \u001b[32m━━━━━━━━━━━━━━━━━━━━\u001b[0m\u001b[37m\u001b[0m \u001b[1m1s\u001b[0m 23ms/step - accuracy: 0.9854 - loss: 0.0564 - val_accuracy: 0.8801 - val_loss: 0.3825\n",
            "Epoch 12/20\n",
            "\u001b[1m30/30\u001b[0m \u001b[32m━━━━━━━━━━━━━━━━━━━━\u001b[0m\u001b[37m\u001b[0m \u001b[1m1s\u001b[0m 21ms/step - accuracy: 0.9885 - loss: 0.0482 - val_accuracy: 0.8729 - val_loss: 0.3955\n",
            "Epoch 13/20\n",
            "\u001b[1m30/30\u001b[0m \u001b[32m━━━━━━━━━━━━━━━━━━━━\u001b[0m\u001b[37m\u001b[0m \u001b[1m1s\u001b[0m 20ms/step - accuracy: 0.9937 - loss: 0.0388 - val_accuracy: 0.8627 - val_loss: 0.4568\n",
            "Epoch 14/20\n",
            "\u001b[1m30/30\u001b[0m \u001b[32m━━━━━━━━━━━━━━━━━━━━\u001b[0m\u001b[37m\u001b[0m \u001b[1m1s\u001b[0m 23ms/step - accuracy: 0.9936 - loss: 0.0353 - val_accuracy: 0.8720 - val_loss: 0.4407\n",
            "Epoch 15/20\n",
            "\u001b[1m30/30\u001b[0m \u001b[32m━━━━━━━━━━━━━━━━━━━━\u001b[0m\u001b[37m\u001b[0m \u001b[1m1s\u001b[0m 24ms/step - accuracy: 0.9953 - loss: 0.0265 - val_accuracy: 0.8752 - val_loss: 0.4615\n",
            "Epoch 16/20\n",
            "\u001b[1m30/30\u001b[0m \u001b[32m━━━━━━━━━━━━━━━━━━━━\u001b[0m\u001b[37m\u001b[0m \u001b[1m1s\u001b[0m 28ms/step - accuracy: 0.9978 - loss: 0.0198 - val_accuracy: 0.8740 - val_loss: 0.4845\n",
            "Epoch 17/20\n",
            "\u001b[1m30/30\u001b[0m \u001b[32m━━━━━━━━━━━━━━━━━━━━\u001b[0m\u001b[37m\u001b[0m \u001b[1m1s\u001b[0m 31ms/step - accuracy: 0.9983 - loss: 0.0158 - val_accuracy: 0.8727 - val_loss: 0.5068\n",
            "Epoch 18/20\n",
            "\u001b[1m30/30\u001b[0m \u001b[32m━━━━━━━━━━━━━━━━━━━━\u001b[0m\u001b[37m\u001b[0m \u001b[1m1s\u001b[0m 23ms/step - accuracy: 0.9986 - loss: 0.0132 - val_accuracy: 0.8727 - val_loss: 0.5270\n",
            "Epoch 19/20\n",
            "\u001b[1m30/30\u001b[0m \u001b[32m━━━━━━━━━━━━━━━━━━━━\u001b[0m\u001b[37m\u001b[0m \u001b[1m1s\u001b[0m 22ms/step - accuracy: 0.9994 - loss: 0.0107 - val_accuracy: 0.8749 - val_loss: 0.5520\n",
            "Epoch 20/20\n",
            "\u001b[1m30/30\u001b[0m \u001b[32m━━━━━━━━━━━━━━━━━━━━\u001b[0m\u001b[37m\u001b[0m \u001b[1m1s\u001b[0m 20ms/step - accuracy: 0.9994 - loss: 0.0087 - val_accuracy: 0.8720 - val_loss: 0.5776\n"
          ]
        }
      ],
      "source": [
        "history = model.fit(partial_x_train,\n",
        "                    partial_y_train,\n",
        "                    epochs=20,\n",
        "                    batch_size=512,\n",
        "                    validation_data=(x_val, y_val))"
      ]
    },
    {
      "cell_type": "code",
      "execution_count": 14,
      "metadata": {
        "id": "gqyPxvkvBKIY",
        "colab": {
          "base_uri": "https://localhost:8080/"
        },
        "outputId": "e118e5db-942c-4cc0-bf5f-48927dad6d08"
      },
      "outputs": [
        {
          "output_type": "execute_result",
          "data": {
            "text/plain": [
              "dict_keys(['accuracy', 'loss', 'val_accuracy', 'val_loss'])"
            ]
          },
          "metadata": {},
          "execution_count": 14
        }
      ],
      "source": [
        "history_dict = history.history\n",
        "history_dict.keys()"
      ]
    },
    {
      "cell_type": "markdown",
      "metadata": {
        "id": "iXcYTyTpBKIY"
      },
      "source": [
        "**Plotting the training and validation loss**"
      ]
    },
    {
      "cell_type": "code",
      "source": [
        "import matplotlib.pyplot as plt"
      ],
      "metadata": {
        "id": "paDdwSX0Ubm1"
      },
      "execution_count": 15,
      "outputs": []
    },
    {
      "cell_type": "code",
      "execution_count": 16,
      "metadata": {
        "id": "MPkcBbU-BKIY",
        "colab": {
          "base_uri": "https://localhost:8080/",
          "height": 472
        },
        "outputId": "dbfd9763-681c-4371-8eb1-c72a69e9fe2e"
      },
      "outputs": [
        {
          "output_type": "display_data",
          "data": {
            "text/plain": [
              "<Figure size 640x480 with 1 Axes>"
            ],
            "image/png": "[encoded data removed]"
          },
          "metadata": {}
        }
      ],
      "source": [
        "import matplotlib.pyplot as plt\n",
        "history_dict = history.history\n",
        "loss_values = history_dict[\"loss\"]\n",
        "val_loss_values = history_dict[\"val_loss\"]\n",
        "epochs = range(1, len(loss_values) + 1)\n",
        "plt.plot(epochs, loss_values, \"bo\", label=\"Training loss\")\n",
        "plt.plot(epochs, val_loss_values, \"b\", label=\"Validation loss\")\n",
        "plt.title(\"Training and validation loss\")\n",
        "plt.xlabel(\"Epochs\")\n",
        "plt.ylabel(\"Loss\")\n",
        "plt.legend()\n",
        "plt.show()"
      ]
    },
    {
      "cell_type": "markdown",
      "metadata": {
        "id": "-m_u4jJ5BKIY"
      },
      "source": [
        "**Plotting the training and validation accuracy**"
      ]
    },
    {
      "cell_type": "code",
      "execution_count": 17,
      "metadata": {
        "id": "7dwNtUhkBKIY",
        "colab": {
          "base_uri": "https://localhost:8080/",
          "height": 472
        },
        "outputId": "958c5862-c8b4-4588-ca19-79b0286759c1"
      },
      "outputs": [
        {
          "output_type": "display_data",
          "data": {
            "text/plain": [
              "<Figure size 640x480 with 1 Axes>"
            ],
            "image/png": "[encoded data removed]"
          },
          "metadata": {}
        }
      ],
      "source": [
        "plt.clf()\n",
        "acc = history_dict[\"accuracy\"]\n",
        "val_acc = history_dict[\"val_accuracy\"]\n",
        "plt.plot(epochs, acc, \"bo\", label=\"Training acc\")\n",
        "plt.plot(epochs, val_acc, \"b\", label=\"Validation acc\")\n",
        "plt.title(\"Training and validation accuracy\")\n",
        "plt.xlabel(\"Epochs\")\n",
        "plt.ylabel(\"Accuracy\")\n",
        "plt.legend()\n",
        "plt.show()"
      ]
    },
    {
      "cell_type": "markdown",
      "metadata": {
        "id": "Zhc0ne4mBKIY"
      },
      "source": [
        "**Retraining a model from scratch**"
      ]
    },
    {
      "cell_type": "code",
      "execution_count": 18,
      "metadata": {
        "id": "j1UFwARgBKIZ",
        "colab": {
          "base_uri": "https://localhost:8080/"
        },
        "outputId": "5be73fda-b52a-49df-b260-7d3d7a5abd07"
      },
      "outputs": [
        {
          "output_type": "stream",
          "name": "stdout",
          "text": [
            "Epoch 1/4\n",
            "\u001b[1m49/49\u001b[0m \u001b[32m━━━━━━━━━━━━━━━━━━━━\u001b[0m\u001b[37m\u001b[0m \u001b[1m3s\u001b[0m 27ms/step - accuracy: 0.7144 - loss: 0.5786\n",
            "Epoch 2/4\n",
            "\u001b[1m49/49\u001b[0m \u001b[32m━━━━━━━━━━━━━━━━━━━━\u001b[0m\u001b[37m\u001b[0m \u001b[1m1s\u001b[0m 12ms/step - accuracy: 0.9034 - loss: 0.2957\n",
            "Epoch 3/4\n",
            "\u001b[1m49/49\u001b[0m \u001b[32m━━━━━━━━━━━━━━━━━━━━\u001b[0m\u001b[37m\u001b[0m \u001b[1m1s\u001b[0m 16ms/step - accuracy: 0.9281 - loss: 0.2141\n",
            "Epoch 4/4\n",
            "\u001b[1m49/49\u001b[0m \u001b[32m━━━━━━━━━━━━━━━━━━━━\u001b[0m\u001b[37m\u001b[0m \u001b[1m1s\u001b[0m 15ms/step - accuracy: 0.9350 - loss: 0.1845\n",
            "\u001b[1m782/782\u001b[0m \u001b[32m━━━━━━━━━━━━━━━━━━━━\u001b[0m\u001b[37m\u001b[0m \u001b[1m2s\u001b[0m 3ms/step - accuracy: 0.8841 - loss: 0.2883\n"
          ]
        }
      ],
      "source": [
        "model = keras.Sequential([\n",
        "    layers.Dense(16, activation=\"relu\"),\n",
        "    layers.Dense(16, activation=\"relu\"),\n",
        "    layers.Dense(1, activation=\"sigmoid\")\n",
        "])\n",
        "model.compile(optimizer=\"rmsprop\",\n",
        "              loss=\"binary_crossentropy\",\n",
        "              metrics=[\"accuracy\"])\n",
        "model.fit(x_train, y_train, epochs=4, batch_size=512)\n",
        "results = model.evaluate(x_test, y_test)"
      ]
    },
    {
      "cell_type": "code",
      "execution_count": 19,
      "metadata": {
        "id": "UGyFFBIBBKIZ",
        "colab": {
          "base_uri": "https://localhost:8080/"
        },
        "outputId": "33fe1505-750a-46f6-a720-fd6618f1616e"
      },
      "outputs": [
        {
          "output_type": "execute_result",
          "data": {
            "text/plain": [
              "[0.28617215156555176, 0.8863599896430969]"
            ]
          },
          "metadata": {},
          "execution_count": 19
        }
      ],
      "source": [
        "results"
      ]
    },
    {
      "cell_type": "markdown",
      "metadata": {
        "id": "tHvYdI31BKIZ"
      },
      "source": [
        "### Using a trained model to generate predictions on new data"
      ]
    },
    {
      "cell_type": "code",
      "execution_count": 20,
      "metadata": {
        "id": "aYfMpZZXBKIZ",
        "colab": {
          "base_uri": "https://localhost:8080/"
        },
        "outputId": "4ec6ee51-5caf-47c5-d4a4-2e639d8bfcee"
      },
      "outputs": [
        {
          "output_type": "stream",
          "name": "stdout",
          "text": [
            "\u001b[1m782/782\u001b[0m \u001b[32m━━━━━━━━━━━━━━━━━━━━\u001b[0m\u001b[37m\u001b[0m \u001b[1m1s\u001b[0m 2ms/step\n"
          ]
        },
        {
          "output_type": "execute_result",
          "data": {
            "text/plain": [
              "array([[0.23152234],\n",
              "       [0.9978276 ],\n",
              "       [0.8356138 ],\n",
              "       ...,\n",
              "       [0.12802833],\n",
              "       [0.09059297],\n",
              "       [0.62701136]], dtype=float32)"
            ]
          },
          "metadata": {},
          "execution_count": 20
        }
      ],
      "source": [
        "model.predict(x_test)"
      ]
    },
    {
      "cell_type": "markdown",
      "metadata": {
        "id": "PxefLL5bBKIZ"
      },
      "source": [
        "### Further experiments"
      ]
    },
    {
      "cell_type": "markdown",
      "metadata": {
        "id": "FafjNW97BKIZ"
      },
      "source": [
        "### Wrapping up"
      ]
    },
    {
      "cell_type": "markdown",
      "metadata": {
        "id": "UyKRTRrEBKIZ"
      },
      "source": [
        "## Classifying newswires: A multiclass classification example"
      ]
    },
    {
      "cell_type": "markdown",
      "metadata": {
        "id": "-3wiq2dkBKIa"
      },
      "source": [
        "### The Reuters dataset"
      ]
    },
    {
      "cell_type": "markdown",
      "metadata": {
        "id": "RJnpFUvcBKIa"
      },
      "source": [
        "**Loading the Reuters dataset**"
      ]
    },
    {
      "cell_type": "code",
      "execution_count": 21,
      "metadata": {
        "id": "Kbq4Q5jJBKIa",
        "colab": {
          "base_uri": "https://localhost:8080/"
        },
        "outputId": "5651ceb7-7f76-4755-e48b-15dc1cf125c5"
      },
      "outputs": [
        {
          "output_type": "stream",
          "name": "stdout",
          "text": [
            "Downloading data from https://storage.googleapis.com/tensorflow/tf-keras-datasets/reuters.npz\n",
            "\u001b[1m2110848/2110848\u001b[0m \u001b[32m━━━━━━━━━━━━━━━━━━━━\u001b[0m\u001b[37m\u001b[0m \u001b[1m0s\u001b[0m 0us/step\n"
          ]
        }
      ],
      "source": [
        "from tensorflow.keras.datasets import reuters\n",
        "(train_data, train_labels), (test_data, test_labels) = reuters.load_data(\n",
        "    num_words=10000)"
      ]
    },
    {
      "cell_type": "code",
      "execution_count": 22,
      "metadata": {
        "id": "Mn7y3l3EBKIa",
        "colab": {
          "base_uri": "https://localhost:8080/"
        },
        "outputId": "da7c70c9-caf4-4422-8009-5730ec9fb432"
      },
      "outputs": [
        {
          "output_type": "execute_result",
          "data": {
            "text/plain": [
              "8982"
            ]
          },
          "metadata": {},
          "execution_count": 22
        }
      ],
      "source": [
        "len(train_data)"
      ]
    },
    {
      "cell_type": "code",
      "execution_count": 23,
      "metadata": {
        "id": "ING4ZdcgBKIb",
        "colab": {
          "base_uri": "https://localhost:8080/"
        },
        "outputId": "8f2ec816-7ec5-42bd-d250-52faf76dd264"
      },
      "outputs": [
        {
          "output_type": "execute_result",
          "data": {
            "text/plain": [
              "2246"
            ]
          },
          "metadata": {},
          "execution_count": 23
        }
      ],
      "source": [
        "len(test_data)"
      ]
    },
    {
      "cell_type": "code",
      "execution_count": 24,
      "metadata": {
        "id": "l2oiIyMjBKIb",
        "colab": {
          "base_uri": "https://localhost:8080/"
        },
        "outputId": "74a05013-a3bc-4aff-bd4b-c35ee16094e2"
      },
      "outputs": [
        {
          "output_type": "execute_result",
          "data": {
            "text/plain": [
              "[1,\n",
              " 245,\n",
              " 273,\n",
              " 207,\n",
              " 156,\n",
              " 53,\n",
              " 74,\n",
              " 160,\n",
              " 26,\n",
              " 14,\n",
              " 46,\n",
              " 296,\n",
              " 26,\n",
              " 39,\n",
              " 74,\n",
              " 2979,\n",
              " 3554,\n",
              " 14,\n",
              " 46,\n",
              " 4689,\n",
              " 4329,\n",
              " 86,\n",
              " 61,\n",
              " 3499,\n",
              " 4795,\n",
              " 14,\n",
              " 61,\n",
              " 451,\n",
              " 4329,\n",
              " 17,\n",
              " 12]"
            ]
          },
          "metadata": {},
          "execution_count": 24
        }
      ],
      "source": [
        "train_data[10]"
      ]
    },
    {
      "cell_type": "markdown",
      "metadata": {
        "id": "mHS2A_G5BKIb"
      },
      "source": [
        "**Decoding newswires back to text**"
      ]
    },
    {
      "cell_type": "code",
      "execution_count": 25,
      "metadata": {
        "id": "cm9_JN2fBKIb",
        "colab": {
          "base_uri": "https://localhost:8080/"
        },
        "outputId": "c887cd1d-c10e-4f9c-939b-96714e0cecc1"
      },
      "outputs": [
        {
          "output_type": "stream",
          "name": "stdout",
          "text": [
            "Downloading data from https://storage.googleapis.com/tensorflow/tf-keras-datasets/reuters_word_index.json\n",
            "\u001b[1m550378/550378\u001b[0m \u001b[32m━━━━━━━━━━━━━━━━━━━━\u001b[0m\u001b[37m\u001b[0m \u001b[1m0s\u001b[0m 0us/step\n"
          ]
        }
      ],
      "source": [
        "word_index = reuters.get_word_index()\n",
        "reverse_word_index = dict([(value, key) for (key, value) in word_index.items()])\n",
        "decoded_newswire = \" \".join([reverse_word_index.get(i - 3, \"?\") for i in\n",
        "    train_data[0]])"
      ]
    },
    {
      "cell_type": "code",
      "execution_count": 26,
      "metadata": {
        "id": "hvhOs5twBKIb",
        "colab": {
          "base_uri": "https://localhost:8080/"
        },
        "outputId": "ab442365-04fc-4b64-fbf8-5a85b989df8c"
      },
      "outputs": [
        {
          "output_type": "execute_result",
          "data": {
            "text/plain": [
              "np.int64(3)"
            ]
          },
          "metadata": {},
          "execution_count": 26
        }
      ],
      "source": [
        "train_labels[10]"
      ]
    },
    {
      "cell_type": "markdown",
      "metadata": {
        "id": "8XEh8n6zBKIb"
      },
      "source": [
        "### Preparing the data"
      ]
    },
    {
      "cell_type": "markdown",
      "metadata": {
        "id": "2xftyuyUBKIb"
      },
      "source": [
        "**Encoding the input data**"
      ]
    },
    {
      "cell_type": "code",
      "execution_count": 27,
      "metadata": {
        "id": "OlDh_wAaBKIb"
      },
      "outputs": [],
      "source": [
        "x_train = vectorize_sequences(train_data)\n",
        "x_test = vectorize_sequences(test_data)"
      ]
    },
    {
      "cell_type": "markdown",
      "metadata": {
        "id": "hTK2FSDIBKIc"
      },
      "source": [
        "**Encoding the labels**"
      ]
    },
    {
      "cell_type": "code",
      "execution_count": 28,
      "metadata": {
        "id": "uM7SOmFkBKIc"
      },
      "outputs": [],
      "source": [
        "def to_one_hot(labels, dimension=46):\n",
        "    results = np.zeros((len(labels), dimension))\n",
        "    for i, label in enumerate(labels):\n",
        "        results[i, label] = 1.\n",
        "    return results\n",
        "y_train = to_one_hot(train_labels)\n",
        "y_test = to_one_hot(test_labels)"
      ]
    },
    {
      "cell_type": "code",
      "execution_count": 29,
      "metadata": {
        "id": "biTSP-UlBKIc"
      },
      "outputs": [],
      "source": [
        "from tensorflow.keras.utils import to_categorical\n",
        "y_train = to_categorical(train_labels)\n",
        "y_test = to_categorical(test_labels)"
      ]
    },
    {
      "cell_type": "markdown",
      "metadata": {
        "id": "jZ8UsifqBKIc"
      },
      "source": [
        "### Building your model"
      ]
    },
    {
      "cell_type": "markdown",
      "metadata": {
        "id": "1jW1VId3BKIc"
      },
      "source": [
        "**Model definition**"
      ]
    },
    {
      "cell_type": "code",
      "execution_count": 30,
      "metadata": {
        "id": "99fmwg6kBKIc"
      },
      "outputs": [],
      "source": [
        "model = keras.Sequential([\n",
        "    layers.Dense(64, activation=\"relu\"),\n",
        "    layers.Dense(64, activation=\"relu\"),\n",
        "    layers.Dense(46, activation=\"softmax\")\n",
        "])"
      ]
    },
    {
      "cell_type": "markdown",
      "metadata": {
        "id": "FD4j2ZguBKIc"
      },
      "source": [
        "**Compiling the model**"
      ]
    },
    {
      "cell_type": "code",
      "execution_count": 31,
      "metadata": {
        "id": "tZ2aVGhqBKId"
      },
      "outputs": [],
      "source": [
        "model.compile(optimizer=\"rmsprop\",\n",
        "              loss=\"categorical_crossentropy\",\n",
        "              metrics=[\"accuracy\"])"
      ]
    },
    {
      "cell_type": "markdown",
      "metadata": {
        "id": "YzEc1XS2BKId"
      },
      "source": [
        "### Validating your approach"
      ]
    },
    {
      "cell_type": "markdown",
      "metadata": {
        "id": "XS-S27G6BKId"
      },
      "source": [
        "**Setting aside a validation set**"
      ]
    },
    {
      "cell_type": "code",
      "execution_count": 32,
      "metadata": {
        "id": "vOUCStSxBKId"
      },
      "outputs": [],
      "source": [
        "x_val = x_train[:1000]\n",
        "partial_x_train = x_train[1000:]\n",
        "y_val = y_train[:1000]\n",
        "partial_y_train = y_train[1000:]"
      ]
    },
    {
      "cell_type": "markdown",
      "metadata": {
        "id": "nC8PYqK3BKId"
      },
      "source": [
        "**Training the model**"
      ]
    },
    {
      "cell_type": "code",
      "execution_count": 33,
      "metadata": {
        "id": "ud0QGWuOBKIe",
        "colab": {
          "base_uri": "https://localhost:8080/"
        },
        "outputId": "0b7bb00e-dbee-4ea7-c1a6-a031d76c0bc5"
      },
      "outputs": [
        {
          "output_type": "stream",
          "name": "stdout",
          "text": [
            "Epoch 1/20\n",
            "\u001b[1m16/16\u001b[0m \u001b[32m━━━━━━━━━━━━━━━━━━━━\u001b[0m\u001b[37m\u001b[0m \u001b[1m4s\u001b[0m 168ms/step - accuracy: 0.3643 - loss: 3.3199 - val_accuracy: 0.5960 - val_loss: 1.9051\n",
            "Epoch 2/20\n",
            "\u001b[1m16/16\u001b[0m \u001b[32m━━━━━━━━━━━━━━━━━━━━\u001b[0m\u001b[37m\u001b[0m \u001b[1m2s\u001b[0m 19ms/step - accuracy: 0.6456 - loss: 1.7226 - val_accuracy: 0.6950 - val_loss: 1.3990\n",
            "Epoch 3/20\n",
            "\u001b[1m16/16\u001b[0m \u001b[32m━━━━━━━━━━━━━━━━━━━━\u001b[0m\u001b[37m\u001b[0m \u001b[1m0s\u001b[0m 16ms/step - accuracy: 0.7426 - loss: 1.2203 - val_accuracy: 0.7420 - val_loss: 1.1998\n",
            "Epoch 4/20\n",
            "\u001b[1m16/16\u001b[0m \u001b[32m━━━━━━━━━━━━━━━━━━━━\u001b[0m\u001b[37m\u001b[0m \u001b[1m0s\u001b[0m 17ms/step - accuracy: 0.7885 - loss: 0.9847 - val_accuracy: 0.7570 - val_loss: 1.1179\n",
            "Epoch 5/20\n",
            "\u001b[1m16/16\u001b[0m \u001b[32m━━━━━━━━━━━━━━━━━━━━\u001b[0m\u001b[37m\u001b[0m \u001b[1m0s\u001b[0m 18ms/step - accuracy: 0.8157 - loss: 0.8444 - val_accuracy: 0.7840 - val_loss: 1.0227\n",
            "Epoch 6/20\n",
            "\u001b[1m16/16\u001b[0m \u001b[32m━━━━━━━━━━━━━━━━━━━━\u001b[0m\u001b[37m\u001b[0m \u001b[1m0s\u001b[0m 17ms/step - accuracy: 0.8522 - loss: 0.6843 - val_accuracy: 0.7920 - val_loss: 0.9669\n",
            "Epoch 7/20\n",
            "\u001b[1m16/16\u001b[0m \u001b[32m━━━━━━━━━━━━━━━━━━━━\u001b[0m\u001b[37m\u001b[0m \u001b[1m0s\u001b[0m 17ms/step - accuracy: 0.8771 - loss: 0.5702 - val_accuracy: 0.8120 - val_loss: 0.9059\n",
            "Epoch 8/20\n",
            "\u001b[1m16/16\u001b[0m \u001b[32m━━━━━━━━━━━━━━━━━━━━\u001b[0m\u001b[37m\u001b[0m \u001b[1m1s\u001b[0m 18ms/step - accuracy: 0.9045 - loss: 0.4668 - val_accuracy: 0.8040 - val_loss: 0.8975\n",
            "Epoch 9/20\n",
            "\u001b[1m16/16\u001b[0m \u001b[32m━━━━━━━━━━━━━━━━━━━━\u001b[0m\u001b[37m\u001b[0m \u001b[1m0s\u001b[0m 22ms/step - accuracy: 0.9184 - loss: 0.3993 - val_accuracy: 0.7950 - val_loss: 0.9259\n",
            "Epoch 10/20\n",
            "\u001b[1m16/16\u001b[0m \u001b[32m━━━━━━━━━━━━━━━━━━━━\u001b[0m\u001b[37m\u001b[0m \u001b[1m1s\u001b[0m 31ms/step - accuracy: 0.9273 - loss: 0.3447 - val_accuracy: 0.7970 - val_loss: 0.9178\n",
            "Epoch 11/20\n",
            "\u001b[1m16/16\u001b[0m \u001b[32m━━━━━━━━━━━━━━━━━━━━\u001b[0m\u001b[37m\u001b[0m \u001b[1m0s\u001b[0m 24ms/step - accuracy: 0.9399 - loss: 0.2887 - val_accuracy: 0.8110 - val_loss: 0.8675\n",
            "Epoch 12/20\n",
            "\u001b[1m16/16\u001b[0m \u001b[32m━━━━━━━━━━━━━━━━━━━━\u001b[0m\u001b[37m\u001b[0m \u001b[1m0s\u001b[0m 21ms/step - accuracy: 0.9511 - loss: 0.2463 - val_accuracy: 0.8120 - val_loss: 0.8780\n",
            "Epoch 13/20\n",
            "\u001b[1m16/16\u001b[0m \u001b[32m━━━━━━━━━━━━━━━━━━━━\u001b[0m\u001b[37m\u001b[0m \u001b[1m1s\u001b[0m 20ms/step - accuracy: 0.9521 - loss: 0.2115 - val_accuracy: 0.8200 - val_loss: 0.8563\n",
            "Epoch 14/20\n",
            "\u001b[1m16/16\u001b[0m \u001b[32m━━━━━━━━━━━━━━━━━━━━\u001b[0m\u001b[37m\u001b[0m \u001b[1m1s\u001b[0m 17ms/step - accuracy: 0.9542 - loss: 0.1966 - val_accuracy: 0.8260 - val_loss: 0.8759\n",
            "Epoch 15/20\n",
            "\u001b[1m16/16\u001b[0m \u001b[32m━━━━━━━━━━━━━━━━━━━━\u001b[0m\u001b[37m\u001b[0m \u001b[1m0s\u001b[0m 17ms/step - accuracy: 0.9547 - loss: 0.1755 - val_accuracy: 0.8210 - val_loss: 0.8896\n",
            "Epoch 16/20\n",
            "\u001b[1m16/16\u001b[0m \u001b[32m━━━━━━━━━━━━━━━━━━━━\u001b[0m\u001b[37m\u001b[0m \u001b[1m0s\u001b[0m 16ms/step - accuracy: 0.9587 - loss: 0.1534 - val_accuracy: 0.8220 - val_loss: 0.8945\n",
            "Epoch 17/20\n",
            "\u001b[1m16/16\u001b[0m \u001b[32m━━━━━━━━━━━━━━━━━━━━\u001b[0m\u001b[37m\u001b[0m \u001b[1m0s\u001b[0m 16ms/step - accuracy: 0.9542 - loss: 0.1575 - val_accuracy: 0.8170 - val_loss: 0.9293\n",
            "Epoch 18/20\n",
            "\u001b[1m16/16\u001b[0m \u001b[32m━━━━━━━━━━━━━━━━━━━━\u001b[0m\u001b[37m\u001b[0m \u001b[1m0s\u001b[0m 16ms/step - accuracy: 0.9569 - loss: 0.1392 - val_accuracy: 0.8130 - val_loss: 0.9193\n",
            "Epoch 19/20\n",
            "\u001b[1m16/16\u001b[0m \u001b[32m━━━━━━━━━━━━━━━━━━━━\u001b[0m\u001b[37m\u001b[0m \u001b[1m0s\u001b[0m 16ms/step - accuracy: 0.9611 - loss: 0.1360 - val_accuracy: 0.8160 - val_loss: 0.9080\n",
            "Epoch 20/20\n",
            "\u001b[1m16/16\u001b[0m \u001b[32m━━━━━━━━━━━━━━━━━━━━\u001b[0m\u001b[37m\u001b[0m \u001b[1m0s\u001b[0m 18ms/step - accuracy: 0.9584 - loss: 0.1238 - val_accuracy: 0.8100 - val_loss: 0.9277\n"
          ]
        }
      ],
      "source": [
        "history = model.fit(partial_x_train,\n",
        "                    partial_y_train,\n",
        "                    epochs=20,\n",
        "                    batch_size=512,\n",
        "                    validation_data=(x_val, y_val))"
      ]
    },
    {
      "cell_type": "markdown",
      "metadata": {
        "id": "mAVzSt5zBKIe"
      },
      "source": [
        "**Plotting the training and validation loss**"
      ]
    },
    {
      "cell_type": "code",
      "execution_count": 34,
      "metadata": {
        "id": "b4j2w9HxBKIe",
        "colab": {
          "base_uri": "https://localhost:8080/",
          "height": 472
        },
        "outputId": "af5b1553-ead8-4481-a3ce-e77865c3cc43"
      },
      "outputs": [
        {
          "output_type": "display_data",
          "data": {
            "text/plain": [
              "<Figure size 640x480 with 1 Axes>"
            ],
            "image/png": "[encoded data removed]"
          },
          "metadata": {}
        }
      ],
      "source": [
        "loss = history.history[\"loss\"]\n",
        "val_loss = history.history[\"val_loss\"]\n",
        "epochs = range(1, len(loss) + 1)\n",
        "plt.plot(epochs, loss, \"bo\", label=\"Training loss\")\n",
        "plt.plot(epochs, val_loss, \"b\", label=\"Validation loss\")\n",
        "plt.title(\"Training and validation loss\")\n",
        "plt.xlabel(\"Epochs\")\n",
        "plt.ylabel(\"Loss\")\n",
        "plt.legend()\n",
        "plt.show()"
      ]
    },
    {
      "cell_type": "markdown",
      "metadata": {
        "id": "IpKfxiHGBKIe"
      },
      "source": [
        "**Plotting the training and validation accuracy**"
      ]
    },
    {
      "cell_type": "code",
      "execution_count": 35,
      "metadata": {
        "id": "638SPY12BKIe",
        "colab": {
          "base_uri": "https://localhost:8080/",
          "height": 472
        },
        "outputId": "1e76e977-14fa-48da-a8cf-fdbb75dad671"
      },
      "outputs": [
        {
          "output_type": "display_data",
          "data": {
            "text/plain": [
              "<Figure size 640x480 with 1 Axes>"
            ],
            "image/png": "[encoded data removed]"
          },
          "metadata": {}
        }
      ],
      "source": [
        "plt.clf()\n",
        "acc = history.history[\"accuracy\"]\n",
        "val_acc = history.history[\"val_accuracy\"]\n",
        "plt.plot(epochs, acc, \"bo\", label=\"Training accuracy\")\n",
        "plt.plot(epochs, val_acc, \"b\", label=\"Validation accuracy\")\n",
        "plt.title(\"Training and validation accuracy\")\n",
        "plt.xlabel(\"Epochs\")\n",
        "plt.ylabel(\"Accuracy\")\n",
        "plt.legend()\n",
        "plt.show()"
      ]
    },
    {
      "cell_type": "markdown",
      "metadata": {
        "id": "sqsxHzQ_BKIe"
      },
      "source": [
        "**Retraining a model from scratch**"
      ]
    },
    {
      "cell_type": "code",
      "execution_count": 36,
      "metadata": {
        "id": "7M7ysXcvBKIe",
        "colab": {
          "base_uri": "https://localhost:8080/"
        },
        "outputId": "0ea97e5e-75ef-4fde-c092-42ac8490cd7e"
      },
      "outputs": [
        {
          "output_type": "stream",
          "name": "stdout",
          "text": [
            "Epoch 1/9\n",
            "\u001b[1m18/18\u001b[0m \u001b[32m━━━━━━━━━━━━━━━━━━━━\u001b[0m\u001b[37m\u001b[0m \u001b[1m2s\u001b[0m 58ms/step - accuracy: 0.3840 - loss: 3.1314\n",
            "Epoch 2/9\n",
            "\u001b[1m18/18\u001b[0m \u001b[32m━━━━━━━━━━━━━━━━━━━━\u001b[0m\u001b[37m\u001b[0m \u001b[1m1s\u001b[0m 12ms/step - accuracy: 0.6699 - loss: 1.5681\n",
            "Epoch 3/9\n",
            "\u001b[1m18/18\u001b[0m \u001b[32m━━━━━━━━━━━━━━━━━━━━\u001b[0m\u001b[37m\u001b[0m \u001b[1m0s\u001b[0m 12ms/step - accuracy: 0.7407 - loss: 1.1749\n",
            "Epoch 4/9\n",
            "\u001b[1m18/18\u001b[0m \u001b[32m━━━━━━━━━━━━━━━━━━━━\u001b[0m\u001b[37m\u001b[0m \u001b[1m0s\u001b[0m 12ms/step - accuracy: 0.7924 - loss: 0.9651\n",
            "Epoch 5/9\n",
            "\u001b[1m18/18\u001b[0m \u001b[32m━━━━━━━━━━━━━━━━━━━━\u001b[0m\u001b[37m\u001b[0m \u001b[1m0s\u001b[0m 13ms/step - accuracy: 0.8197 - loss: 0.8080\n",
            "Epoch 6/9\n",
            "\u001b[1m18/18\u001b[0m \u001b[32m━━━━━━━━━━━━━━━━━━━━\u001b[0m\u001b[37m\u001b[0m \u001b[1m0s\u001b[0m 12ms/step - accuracy: 0.8458 - loss: 0.6781\n",
            "Epoch 7/9\n",
            "\u001b[1m18/18\u001b[0m \u001b[32m━━━━━━━━━━━━━━━━━━━━\u001b[0m\u001b[37m\u001b[0m \u001b[1m0s\u001b[0m 13ms/step - accuracy: 0.8784 - loss: 0.5522\n",
            "Epoch 8/9\n",
            "\u001b[1m18/18\u001b[0m \u001b[32m━━━━━━━━━━━━━━━━━━━━\u001b[0m\u001b[37m\u001b[0m \u001b[1m0s\u001b[0m 14ms/step - accuracy: 0.9071 - loss: 0.4595\n",
            "Epoch 9/9\n",
            "\u001b[1m18/18\u001b[0m \u001b[32m━━━━━━━━━━━━━━━━━━━━\u001b[0m\u001b[37m\u001b[0m \u001b[1m0s\u001b[0m 13ms/step - accuracy: 0.9240 - loss: 0.3680\n",
            "\u001b[1m71/71\u001b[0m \u001b[32m━━━━━━━━━━━━━━━━━━━━\u001b[0m\u001b[37m\u001b[0m \u001b[1m1s\u001b[0m 10ms/step - accuracy: 0.8063 - loss: 0.9045\n"
          ]
        }
      ],
      "source": [
        "model = keras.Sequential([\n",
        "  layers.Dense(64, activation=\"relu\"),\n",
        "  layers.Dense(64, activation=\"relu\"),\n",
        "  layers.Dense(46, activation=\"softmax\")\n",
        "])\n",
        "model.compile(optimizer=\"rmsprop\",\n",
        "              loss=\"categorical_crossentropy\",\n",
        "              metrics=[\"accuracy\"])\n",
        "model.fit(x_train,\n",
        "          y_train,\n",
        "          epochs=9,\n",
        "          batch_size=512)\n",
        "results = model.evaluate(x_test, y_test)"
      ]
    },
    {
      "cell_type": "code",
      "execution_count": 37,
      "metadata": {
        "id": "BHUdkM1OBKIf",
        "colab": {
          "base_uri": "https://localhost:8080/"
        },
        "outputId": "e14a610d-8dc7-4b89-8bd6-15595ff0b56f"
      },
      "outputs": [
        {
          "output_type": "execute_result",
          "data": {
            "text/plain": [
              "[0.9261853694915771, 0.7947462201118469]"
            ]
          },
          "metadata": {},
          "execution_count": 37
        }
      ],
      "source": [
        "results"
      ]
    },
    {
      "cell_type": "code",
      "execution_count": 38,
      "metadata": {
        "id": "DV7zx_pWBKIf",
        "colab": {
          "base_uri": "https://localhost:8080/"
        },
        "outputId": "5434ac2b-a53f-4598-8ca5-7095a42445ce"
      },
      "outputs": [
        {
          "output_type": "execute_result",
          "data": {
            "text/plain": [
              "np.float64(0.1856634016028495)"
            ]
          },
          "metadata": {},
          "execution_count": 38
        }
      ],
      "source": [
        "import copy\n",
        "test_labels_copy = copy.copy(test_labels)\n",
        "np.random.shuffle(test_labels_copy)\n",
        "hits_array = np.array(test_labels) == np.array(test_labels_copy)\n",
        "hits_array.mean()"
      ]
    },
    {
      "cell_type": "markdown",
      "metadata": {
        "id": "OfXo7NNdBKIf"
      },
      "source": [
        "### Generating predictions on new data"
      ]
    },
    {
      "cell_type": "code",
      "execution_count": 39,
      "metadata": {
        "id": "FiDuvWzKBKIf",
        "colab": {
          "base_uri": "https://localhost:8080/"
        },
        "outputId": "5b35a0d9-bdbe-4303-f732-ae0b54a8e502"
      },
      "outputs": [
        {
          "output_type": "stream",
          "name": "stdout",
          "text": [
            "\u001b[1m71/71\u001b[0m \u001b[32m━━━━━━━━━━━━━━━━━━━━\u001b[0m\u001b[37m\u001b[0m \u001b[1m1s\u001b[0m 6ms/step\n"
          ]
        }
      ],
      "source": [
        "predictions = model.predict(x_test)"
      ]
    },
    {
      "cell_type": "code",
      "execution_count": 40,
      "metadata": {
        "id": "TsjBC4X3BKIf",
        "colab": {
          "base_uri": "https://localhost:8080/"
        },
        "outputId": "a20baefa-9ccf-4d67-a9e6-97b81644ffd8"
      },
      "outputs": [
        {
          "output_type": "execute_result",
          "data": {
            "text/plain": [
              "(46,)"
            ]
          },
          "metadata": {},
          "execution_count": 40
        }
      ],
      "source": [
        "predictions[0].shape"
      ]
    },
    {
      "cell_type": "code",
      "execution_count": 41,
      "metadata": {
        "id": "uNEFfZulBKIf",
        "colab": {
          "base_uri": "https://localhost:8080/"
        },
        "outputId": "419079d7-a686-4888-db66-39d210063cc4"
      },
      "outputs": [
        {
          "output_type": "execute_result",
          "data": {
            "text/plain": [
              "np.float32(0.99999994)"
            ]
          },
          "metadata": {},
          "execution_count": 41
        }
      ],
      "source": [
        "np.sum(predictions[0])"
      ]
    },
    {
      "cell_type": "code",
      "execution_count": 42,
      "metadata": {
        "id": "gPuTIOoOBKIf",
        "colab": {
          "base_uri": "https://localhost:8080/"
        },
        "outputId": "2fbba7d7-5ff0-4bc8-edf6-b0806d9623fe"
      },
      "outputs": [
        {
          "output_type": "execute_result",
          "data": {
            "text/plain": [
              "np.int64(3)"
            ]
          },
          "metadata": {},
          "execution_count": 42
        }
      ],
      "source": [
        "np.argmax(predictions[0])"
      ]
    },
    {
      "cell_type": "markdown",
      "metadata": {
        "id": "AwPFbiv1BKIf"
      },
      "source": [
        "### A different way to handle the labels and the loss"
      ]
    },
    {
      "cell_type": "code",
      "execution_count": 43,
      "metadata": {
        "id": "-lRKoL3iBKIf"
      },
      "outputs": [],
      "source": [
        "y_train = np.array(train_labels)\n",
        "y_test = np.array(test_labels)"
      ]
    },
    {
      "cell_type": "code",
      "execution_count": 44,
      "metadata": {
        "id": "cXWQARvQBKIg"
      },
      "outputs": [],
      "source": [
        "model.compile(optimizer=\"rmsprop\",\n",
        "              loss=\"sparse_categorical_crossentropy\",\n",
        "              metrics=[\"accuracy\"])"
      ]
    },
    {
      "cell_type": "markdown",
      "metadata": {
        "id": "TH-5iy1GBKIg"
      },
      "source": [
        "### The importance of having sufficiently large intermediate layers"
      ]
    },
    {
      "cell_type": "markdown",
      "metadata": {
        "id": "06R6Ms0rBKIg"
      },
      "source": [
        "**A model with an information bottleneck**"
      ]
    },
    {
      "cell_type": "code",
      "execution_count": 45,
      "metadata": {
        "id": "5oTtr6zRBKIg",
        "colab": {
          "base_uri": "https://localhost:8080/"
        },
        "outputId": "2d665164-2bce-46d6-9401-885eefb99aed"
      },
      "outputs": [
        {
          "output_type": "stream",
          "name": "stdout",
          "text": [
            "Epoch 1/20\n",
            "\u001b[1m63/63\u001b[0m \u001b[32m━━━━━━━━━━━━━━━━━━━━\u001b[0m\u001b[37m\u001b[0m \u001b[1m3s\u001b[0m 29ms/step - accuracy: 0.3177 - loss: 3.3435 - val_accuracy: 0.3600 - val_loss: 2.5042\n",
            "Epoch 2/20\n",
            "\u001b[1m63/63\u001b[0m \u001b[32m━━━━━━━━━━━━━━━━━━━━\u001b[0m\u001b[37m\u001b[0m \u001b[1m3s\u001b[0m 5ms/step - accuracy: 0.3745 - loss: 2.3620 - val_accuracy: 0.4200 - val_loss: 2.1553\n",
            "Epoch 3/20\n",
            "\u001b[1m63/63\u001b[0m \u001b[32m━━━━━━━━━━━━━━━━━━━━\u001b[0m\u001b[37m\u001b[0m \u001b[1m0s\u001b[0m 5ms/step - accuracy: 0.4372 - loss: 1.9995 - val_accuracy: 0.4490 - val_loss: 1.9091\n",
            "Epoch 4/20\n",
            "\u001b[1m63/63\u001b[0m \u001b[32m━━━━━━━━━━━━━━━━━━━━\u001b[0m\u001b[37m\u001b[0m \u001b[1m0s\u001b[0m 5ms/step - accuracy: 0.4909 - loss: 1.6441 - val_accuracy: 0.4830 - val_loss: 1.5738\n",
            "Epoch 5/20\n",
            "\u001b[1m63/63\u001b[0m \u001b[32m━━━━━━━━━━━━━━━━━━━━\u001b[0m\u001b[37m\u001b[0m \u001b[1m1s\u001b[0m 5ms/step - accuracy: 0.6454 - loss: 1.2930 - val_accuracy: 0.6820 - val_loss: 1.3471\n",
            "Epoch 6/20\n",
            "\u001b[1m63/63\u001b[0m \u001b[32m━━━━━━━━━━━━━━━━━━━━\u001b[0m\u001b[37m\u001b[0m \u001b[1m0s\u001b[0m 7ms/step - accuracy: 0.7562 - loss: 1.0484 - val_accuracy: 0.6950 - val_loss: 1.2825\n",
            "Epoch 7/20\n",
            "\u001b[1m63/63\u001b[0m \u001b[32m━━━━━━━━━━━━━━━━━━━━\u001b[0m\u001b[37m\u001b[0m \u001b[1m1s\u001b[0m 10ms/step - accuracy: 0.7788 - loss: 0.9226 - val_accuracy: 0.7050 - val_loss: 1.2866\n",
            "Epoch 8/20\n",
            "\u001b[1m63/63\u001b[0m \u001b[32m━━━━━━━━━━━━━━━━━━━━\u001b[0m\u001b[37m\u001b[0m \u001b[1m1s\u001b[0m 10ms/step - accuracy: 0.7928 - loss: 0.8479 - val_accuracy: 0.7070 - val_loss: 1.2929\n",
            "Epoch 9/20\n",
            "\u001b[1m63/63\u001b[0m \u001b[32m━━━━━━━━━━━━━━━━━━━━\u001b[0m\u001b[37m\u001b[0m \u001b[1m1s\u001b[0m 5ms/step - accuracy: 0.8177 - loss: 0.7544 - val_accuracy: 0.7180 - val_loss: 1.3077\n",
            "Epoch 10/20\n",
            "\u001b[1m63/63\u001b[0m \u001b[32m━━━━━━━━━━━━━━━━━━━━\u001b[0m\u001b[37m\u001b[0m \u001b[1m1s\u001b[0m 5ms/step - accuracy: 0.8191 - loss: 0.7304 - val_accuracy: 0.7080 - val_loss: 1.3244\n",
            "Epoch 11/20\n",
            "\u001b[1m63/63\u001b[0m \u001b[32m━━━━━━━━━━━━━━━━━━━━\u001b[0m\u001b[37m\u001b[0m \u001b[1m0s\u001b[0m 5ms/step - accuracy: 0.8301 - loss: 0.6771 - val_accuracy: 0.7180 - val_loss: 1.3906\n",
            "Epoch 12/20\n",
            "\u001b[1m63/63\u001b[0m \u001b[32m━━━━━━━━━━━━━━━━━━━━\u001b[0m\u001b[37m\u001b[0m \u001b[1m1s\u001b[0m 5ms/step - accuracy: 0.8340 - loss: 0.6325 - val_accuracy: 0.7200 - val_loss: 1.4024\n",
            "Epoch 13/20\n",
            "\u001b[1m63/63\u001b[0m \u001b[32m━━━━━━━━━━━━━━━━━━━━\u001b[0m\u001b[37m\u001b[0m \u001b[1m0s\u001b[0m 5ms/step - accuracy: 0.8355 - loss: 0.6235 - val_accuracy: 0.7220 - val_loss: 1.4260\n",
            "Epoch 14/20\n",
            "\u001b[1m63/63\u001b[0m \u001b[32m━━━━━━━━━━━━━━━━━━━━\u001b[0m\u001b[37m\u001b[0m \u001b[1m0s\u001b[0m 5ms/step - accuracy: 0.8472 - loss: 0.5747 - val_accuracy: 0.7190 - val_loss: 1.4896\n",
            "Epoch 15/20\n",
            "\u001b[1m63/63\u001b[0m \u001b[32m━━━━━━━━━━━━━━━━━━━━\u001b[0m\u001b[37m\u001b[0m \u001b[1m0s\u001b[0m 5ms/step - accuracy: 0.8517 - loss: 0.5455 - val_accuracy: 0.7190 - val_loss: 1.5000\n",
            "Epoch 16/20\n",
            "\u001b[1m63/63\u001b[0m \u001b[32m━━━━━━━━━━━━━━━━━━━━\u001b[0m\u001b[37m\u001b[0m \u001b[1m1s\u001b[0m 5ms/step - accuracy: 0.8608 - loss: 0.5404 - val_accuracy: 0.7220 - val_loss: 1.5186\n",
            "Epoch 17/20\n",
            "\u001b[1m63/63\u001b[0m \u001b[32m━━━━━━━━━━━━━━━━━━━━\u001b[0m\u001b[37m\u001b[0m \u001b[1m0s\u001b[0m 5ms/step - accuracy: 0.8625 - loss: 0.5193 - val_accuracy: 0.7080 - val_loss: 1.5962\n",
            "Epoch 18/20\n",
            "\u001b[1m63/63\u001b[0m \u001b[32m━━━━━━━━━━━━━━━━━━━━\u001b[0m\u001b[37m\u001b[0m \u001b[1m1s\u001b[0m 5ms/step - accuracy: 0.8676 - loss: 0.4866 - val_accuracy: 0.7200 - val_loss: 1.6336\n",
            "Epoch 19/20\n",
            "\u001b[1m63/63\u001b[0m \u001b[32m━━━━━━━━━━━━━━━━━━━━\u001b[0m\u001b[37m\u001b[0m \u001b[1m0s\u001b[0m 5ms/step - accuracy: 0.8666 - loss: 0.4744 - val_accuracy: 0.7190 - val_loss: 1.6810\n",
            "Epoch 20/20\n",
            "\u001b[1m63/63\u001b[0m \u001b[32m━━━━━━━━━━━━━━━━━━━━\u001b[0m\u001b[37m\u001b[0m \u001b[1m1s\u001b[0m 5ms/step - accuracy: 0.8780 - loss: 0.4419 - val_accuracy: 0.7100 - val_loss: 1.7160\n"
          ]
        },
        {
          "output_type": "execute_result",
          "data": {
            "text/plain": [
              "<keras.src.callbacks.history.History at 0x7b288dd9a990>"
            ]
          },
          "metadata": {},
          "execution_count": 45
        }
      ],
      "source": [
        "model = keras.Sequential([\n",
        "    layers.Dense(64, activation=\"relu\"),\n",
        "    layers.Dense(4, activation=\"relu\"),\n",
        "    layers.Dense(46, activation=\"softmax\")\n",
        "])\n",
        "model.compile(optimizer=\"rmsprop\",\n",
        "              loss=\"categorical_crossentropy\",\n",
        "              metrics=[\"accuracy\"])\n",
        "model.fit(partial_x_train,\n",
        "          partial_y_train,\n",
        "          epochs=20,\n",
        "          batch_size=128,\n",
        "          validation_data=(x_val, y_val))"
      ]
    },
    {
      "cell_type": "markdown",
      "metadata": {
        "id": "MmqiYXcABKIg"
      },
      "source": [
        "### Further experiments"
      ]
    },
    {
      "cell_type": "markdown",
      "metadata": {
        "id": "E6QvhzYtBKIg"
      },
      "source": [
        "### Wrapping up"
      ]
    },
    {
      "cell_type": "markdown",
      "metadata": {
        "id": "3Nk7x4EeBKIg"
      },
      "source": [
        "## Predicting house prices: A regression example"
      ]
    },
    {
      "cell_type": "markdown",
      "metadata": {
        "id": "xpbK8m4HBKIh"
      },
      "source": [
        "### The Boston Housing Price dataset"
      ]
    },
    {
      "cell_type": "markdown",
      "metadata": {
        "id": "3e6-eSZtBKIh"
      },
      "source": [
        "**Loading the Boston housing dataset**"
      ]
    },
    {
      "cell_type": "code",
      "execution_count": 46,
      "metadata": {
        "id": "GdgY9398BKIh"
      },
      "outputs": [],
      "source": [
        "from tensorflow.keras.datasets import boston_housing\n",
        "(train_data, train_targets), (test_data, test_targets) = boston_housing.load_data()"
      ]
    },
    {
      "cell_type": "code",
      "execution_count": 47,
      "metadata": {
        "id": "EhtSgs9PBKIh",
        "colab": {
          "base_uri": "https://localhost:8080/"
        },
        "outputId": "8ddfefda-d47b-4c0d-cb76-e10dea14e75f"
      },
      "outputs": [
        {
          "output_type": "execute_result",
          "data": {
            "text/plain": [
              "(404, 13)"
            ]
          },
          "metadata": {},
          "execution_count": 47
        }
      ],
      "source": [
        "train_data.shape"
      ]
    },
    {
      "cell_type": "code",
      "execution_count": 48,
      "metadata": {
        "id": "wGyD9DGMBKIh",
        "colab": {
          "base_uri": "https://localhost:8080/"
        },
        "outputId": "456ccc67-9432-4c50-bcf1-60bcbad30d3a"
      },
      "outputs": [
        {
          "output_type": "execute_result",
          "data": {
            "text/plain": [
              "(102, 13)"
            ]
          },
          "metadata": {},
          "execution_count": 48
        }
      ],
      "source": [
        "test_data.shape"
      ]
    },
    {
      "cell_type": "code",
      "execution_count": 49,
      "metadata": {
        "id": "3elfe6qiBKIh",
        "colab": {
          "base_uri": "https://localhost:8080/"
        },
        "outputId": "0dd48ca1-01d8-4b23-a845-8b3adb2bae8c"
      },
      "outputs": [
        {
          "output_type": "execute_result",
          "data": {
            "text/plain": [
              "array([15.2, 42.3, 50. , 21.1, 17.7, 18.5, 11.3, 15.6, 15.6, 14.4, 12.1,\n",
              "       17.9, 23.1, 19.9, 15.7,  8.8, 50. , 22.5, 24.1, 27.5, 10.9, 30.8,\n",
              "       32.9, 24. , 18.5, 13.3, 22.9, 34.7, 16.6, 17.5, 22.3, 16.1, 14.9,\n",
              "       23.1, 34.9, 25. , 13.9, 13.1, 20.4, 20. , 15.2, 24.7, 22.2, 16.7,\n",
              "       12.7, 15.6, 18.4, 21. , 30.1, 15.1, 18.7,  9.6, 31.5, 24.8, 19.1,\n",
              "       22. , 14.5, 11. , 32. , 29.4, 20.3, 24.4, 14.6, 19.5, 14.1, 14.3,\n",
              "       15.6, 10.5,  6.3, 19.3, 19.3, 13.4, 36.4, 17.8, 13.5, 16.5,  8.3,\n",
              "       14.3, 16. , 13.4, 28.6, 43.5, 20.2, 22. , 23. , 20.7, 12.5, 48.5,\n",
              "       14.6, 13.4, 23.7, 50. , 21.7, 39.8, 38.7, 22.2, 34.9, 22.5, 31.1,\n",
              "       28.7, 46. , 41.7, 21. , 26.6, 15. , 24.4, 13.3, 21.2, 11.7, 21.7,\n",
              "       19.4, 50. , 22.8, 19.7, 24.7, 36.2, 14.2, 18.9, 18.3, 20.6, 24.6,\n",
              "       18.2,  8.7, 44. , 10.4, 13.2, 21.2, 37. , 30.7, 22.9, 20. , 19.3,\n",
              "       31.7, 32. , 23.1, 18.8, 10.9, 50. , 19.6,  5. , 14.4, 19.8, 13.8,\n",
              "       19.6, 23.9, 24.5, 25. , 19.9, 17.2, 24.6, 13.5, 26.6, 21.4, 11.9,\n",
              "       22.6, 19.6,  8.5, 23.7, 23.1, 22.4, 20.5, 23.6, 18.4, 35.2, 23.1,\n",
              "       27.9, 20.6, 23.7, 28. , 13.6, 27.1, 23.6, 20.6, 18.2, 21.7, 17.1,\n",
              "        8.4, 25.3, 13.8, 22.2, 18.4, 20.7, 31.6, 30.5, 20.3,  8.8, 19.2,\n",
              "       19.4, 23.1, 23. , 14.8, 48.8, 22.6, 33.4, 21.1, 13.6, 32.2, 13.1,\n",
              "       23.4, 18.9, 23.9, 11.8, 23.3, 22.8, 19.6, 16.7, 13.4, 22.2, 20.4,\n",
              "       21.8, 26.4, 14.9, 24.1, 23.8, 12.3, 29.1, 21. , 19.5, 23.3, 23.8,\n",
              "       17.8, 11.5, 21.7, 19.9, 25. , 33.4, 28.5, 21.4, 24.3, 27.5, 33.1,\n",
              "       16.2, 23.3, 48.3, 22.9, 22.8, 13.1, 12.7, 22.6, 15. , 15.3, 10.5,\n",
              "       24. , 18.5, 21.7, 19.5, 33.2, 23.2,  5. , 19.1, 12.7, 22.3, 10.2,\n",
              "       13.9, 16.3, 17. , 20.1, 29.9, 17.2, 37.3, 45.4, 17.8, 23.2, 29. ,\n",
              "       22. , 18. , 17.4, 34.6, 20.1, 25. , 15.6, 24.8, 28.2, 21.2, 21.4,\n",
              "       23.8, 31. , 26.2, 17.4, 37.9, 17.5, 20. ,  8.3, 23.9,  8.4, 13.8,\n",
              "        7.2, 11.7, 17.1, 21.6, 50. , 16.1, 20.4, 20.6, 21.4, 20.6, 36.5,\n",
              "        8.5, 24.8, 10.8, 21.9, 17.3, 18.9, 36.2, 14.9, 18.2, 33.3, 21.8,\n",
              "       19.7, 31.6, 24.8, 19.4, 22.8,  7.5, 44.8, 16.8, 18.7, 50. , 50. ,\n",
              "       19.5, 20.1, 50. , 17.2, 20.8, 19.3, 41.3, 20.4, 20.5, 13.8, 16.5,\n",
              "       23.9, 20.6, 31.5, 23.3, 16.8, 14. , 33.8, 36.1, 12.8, 18.3, 18.7,\n",
              "       19.1, 29. , 30.1, 50. , 50. , 22. , 11.9, 37.6, 50. , 22.7, 20.8,\n",
              "       23.5, 27.9, 50. , 19.3, 23.9, 22.6, 15.2, 21.7, 19.2, 43.8, 20.3,\n",
              "       33.2, 19.9, 22.5, 32.7, 22. , 17.1, 19. , 15. , 16.1, 25.1, 23.7,\n",
              "       28.7, 37.2, 22.6, 16.4, 25. , 29.8, 22.1, 17.4, 18.1, 30.3, 17.5,\n",
              "       24.7, 12.6, 26.5, 28.7, 13.3, 10.4, 24.4, 23. , 20. , 17.8,  7. ,\n",
              "       11.8, 24.4, 13.8, 19.4, 25.2, 19.4, 19.4, 29.1])"
            ]
          },
          "metadata": {},
          "execution_count": 49
        }
      ],
      "source": [
        "train_targets"
      ]
    },
    {
      "cell_type": "markdown",
      "metadata": {
        "id": "u4hj5Ac6BKIh"
      },
      "source": [
        "### Preparing the data"
      ]
    },
    {
      "cell_type": "markdown",
      "metadata": {
        "id": "lmFxAuE1BKIh"
      },
      "source": [
        "**Normalizing the data**"
      ]
    },
    {
      "cell_type": "code",
      "source": [
        "train_data.shape"
      ],
      "metadata": {
        "colab": {
          "base_uri": "https://localhost:8080/"
        },
        "id": "AIooXBaVS2m2",
        "outputId": "1b2d8ab9-5e93-4deb-81d1-cb780647bc90"
      },
      "execution_count": 50,
      "outputs": [
        {
          "output_type": "execute_result",
          "data": {
            "text/plain": [
              "(404, 13)"
            ]
          },
          "metadata": {},
          "execution_count": 50
        }
      ]
    },
    {
      "cell_type": "code",
      "execution_count": 51,
      "metadata": {
        "id": "Eub_D4IWBKIh"
      },
      "outputs": [],
      "source": [
        "mean = train_data.mean(axis=0)\n",
        "train_data -= mean\n",
        "std = train_data.std(axis=0)\n",
        "train_data /= std\n",
        "test_data -= mean\n",
        "test_data /= std"
      ]
    },
    {
      "cell_type": "code",
      "source": [
        "mean"
      ],
      "metadata": {
        "colab": {
          "base_uri": "https://localhost:8080/"
        },
        "id": "5ywZDSQmS_HA",
        "outputId": "6042af3e-009d-40bd-f00a-f99d9bd99930"
      },
      "execution_count": 52,
      "outputs": [
        {
          "output_type": "execute_result",
          "data": {
            "text/plain": [
              "array([3.74511057e+00, 1.14801980e+01, 1.11044307e+01, 6.18811881e-02,\n",
              "       5.57355941e-01, 6.26708168e+00, 6.90106436e+01, 3.74027079e+00,\n",
              "       9.44059406e+00, 4.05898515e+02, 1.84759901e+01, 3.54783168e+02,\n",
              "       1.27408168e+01])"
            ]
          },
          "metadata": {},
          "execution_count": 52
        }
      ]
    },
    {
      "cell_type": "code",
      "source": [
        "train_data[:2]"
      ],
      "metadata": {
        "colab": {
          "base_uri": "https://localhost:8080/"
        },
        "id": "a2EjUD-zTILY",
        "outputId": "937c37e1-ff40-4a8b-9e8d-8291ff451ae8"
      },
      "execution_count": 53,
      "outputs": [
        {
          "output_type": "execute_result",
          "data": {
            "text/plain": [
              "array([[-0.27224633, -0.48361547, -0.43576161, -0.25683275, -0.1652266 ,\n",
              "        -0.1764426 ,  0.81306188,  0.1166983 , -0.62624905, -0.59517003,\n",
              "         1.14850044,  0.44807713,  0.8252202 ],\n",
              "       [-0.40342651,  2.99178419, -1.33391162, -0.25683275, -1.21518188,\n",
              "         1.89434613, -1.91036058,  1.24758524, -0.85646254, -0.34843254,\n",
              "        -1.71818909,  0.43190599, -1.32920239]])"
            ]
          },
          "metadata": {},
          "execution_count": 53
        }
      ]
    },
    {
      "cell_type": "markdown",
      "metadata": {
        "id": "aBm5cDOABKIi"
      },
      "source": [
        "### Building your model"
      ]
    },
    {
      "cell_type": "markdown",
      "metadata": {
        "id": "JPuMvDd4BKIi"
      },
      "source": [
        "**Model definition**"
      ]
    },
    {
      "cell_type": "code",
      "execution_count": 54,
      "metadata": {
        "id": "VwTB_0E1BKIi"
      },
      "outputs": [],
      "source": [
        "def build_model():\n",
        "    model = keras.Sequential([\n",
        "        layers.Dense(64, activation=\"relu\"),\n",
        "        layers.Dense(64, activation=\"relu\"),\n",
        "        layers.Dense(1)\n",
        "    ])\n",
        "    model.compile(optimizer=\"rmsprop\", loss=\"mse\", metrics=[\"mae\"])\n",
        "    return model"
      ]
    },
    {
      "cell_type": "code",
      "execution_count": 55,
      "metadata": {
        "id": "6UiS8gM-TS8Z"
      },
      "outputs": [],
      "source": [
        "def build_model():\n",
        "    model = keras.Sequential([\n",
        "        layers.Dense(64, activation=\"relu\"),\n",
        "        layers.Dense(64, activation=\"relu\"),\n",
        "        layers.Dense(1)\n",
        "    ])\n",
        "    model.compile(optimizer=\"rmsprop\", loss=\"mse\", metrics=[\"mae\"])\n",
        "    return model"
      ]
    },
    {
      "cell_type": "markdown",
      "metadata": {
        "id": "gemUfGd6BKIi"
      },
      "source": [
        "### Validating your approach using K-fold validation"
      ]
    },
    {
      "cell_type": "markdown",
      "metadata": {
        "id": "t-Ysig5ZBKIi"
      },
      "source": [
        "**K-fold validation**"
      ]
    },
    {
      "cell_type": "code",
      "source": [
        "np.array(all_mae_histories).shape"
      ],
      "metadata": {
        "colab": {
          "base_uri": "https://localhost:8080/"
        },
        "id": "jBn5K4A-YD6C",
        "outputId": "f4af1b7f-1e89-4c14-c054-5137e190bfda"
      },
      "execution_count": 73,
      "outputs": [
        {
          "output_type": "execute_result",
          "data": {
            "text/plain": [
              "(4, 500)"
            ]
          },
          "metadata": {},
          "execution_count": 73
        }
      ]
    },
    {
      "cell_type": "code",
      "source": [
        "len(all_mae_histories)"
      ],
      "metadata": {
        "colab": {
          "base_uri": "https://localhost:8080/"
        },
        "id": "HlPlPOfpYJzs",
        "outputId": "2c5719f1-16cf-432b-95db-36c89c553e3f"
      },
      "execution_count": 74,
      "outputs": [
        {
          "output_type": "execute_result",
          "data": {
            "text/plain": [
              "4"
            ]
          },
          "metadata": {},
          "execution_count": 74
        }
      ]
    },
    {
      "cell_type": "code",
      "source": [
        "all_mae_histories"
      ],
      "metadata": {
        "colab": {
          "base_uri": "https://localhost:8080/"
        },
        "id": "9Px6pY_1YBbO",
        "outputId": "0ea40bc6-c2b6-4f0d-b94f-bfd922f56a33"
      },
      "execution_count": 72,
      "outputs": [
        {
          "output_type": "execute_result",
          "data": {
            "text/plain": [
              "[[18.35613441467285,\n",
              "  14.71263599395752,\n",
              "  10.488208770751953,\n",
              "  6.904233455657959,\n",
              "  5.134119987487793,\n",
              "  4.217210292816162,\n",
              "  3.5285568237304688,\n",
              "  3.215163230895996,\n",
              "  3.044773578643799,\n",
              "  2.908392906188965,\n",
              "  2.8468830585479736,\n",
              "  2.684950828552246,\n",
              "  2.690183639526367,\n",
              "  2.5873095989227295,\n",
              "  2.553093433380127,\n",
              "  2.5954275131225586,\n",
              "  2.4995651245117188,\n",
              "  2.3837943077087402,\n",
              "  2.2886548042297363,\n",
              "  2.313960075378418,\n",
              "  2.333888292312622,\n",
              "  2.258183479309082,\n",
              "  2.248518466949463,\n",
              "  2.2557907104492188,\n",
              "  2.211766004562378,\n",
              "  2.1039035320281982,\n",
              "  2.1001906394958496,\n",
              "  2.0896925926208496,\n",
              "  2.053985834121704,\n",
              "  2.0218169689178467,\n",
              "  2.021761655807495,\n",
              "  2.03053617477417,\n",
              "  1.9616923332214355,\n",
              "  1.9747014045715332,\n",
              "  2.0215580463409424,\n",
              "  2.031107187271118,\n",
              "  1.9971693754196167,\n",
              "  1.942193865776062,\n",
              "  2.048342227935791,\n",
              "  2.0775928497314453,\n",
              "  1.9040400981903076,\n",
              "  2.087301731109619,\n",
              "  1.9404405355453491,\n",
              "  2.050029993057251,\n",
              "  1.8862569332122803,\n",
              "  2.0823676586151123,\n",
              "  1.9517507553100586,\n",
              "  1.9081398248672485,\n",
              "  1.9086275100708008,\n",
              "  1.9370229244232178,\n",
              "  2.0248329639434814,\n",
              "  1.8471938371658325,\n",
              "  1.8760592937469482,\n",
              "  2.07014536857605,\n",
              "  1.8959451913833618,\n",
              "  1.9594074487686157,\n",
              "  1.8690783977508545,\n",
              "  1.913368582725525,\n",
              "  1.8899176120758057,\n",
              "  1.9368832111358643,\n",
              "  2.0727932453155518,\n",
              "  1.9497411251068115,\n",
              "  1.8492259979248047,\n",
              "  1.849536657333374,\n",
              "  1.8746753931045532,\n",
              "  1.8894850015640259,\n",
              "  1.8596569299697876,\n",
              "  1.8975986242294312,\n",
              "  1.8835210800170898,\n",
              "  2.017338275909424,\n",
              "  1.9150407314300537,\n",
              "  1.8397915363311768,\n",
              "  2.1651573181152344,\n",
              "  1.9656327962875366,\n",
              "  1.9289860725402832,\n",
              "  1.9219180345535278,\n",
              "  1.9183486700057983,\n",
              "  1.8796175718307495,\n",
              "  2.0690181255340576,\n",
              "  1.989276647567749,\n",
              "  1.9876965284347534,\n",
              "  2.083099365234375,\n",
              "  2.024261713027954,\n",
              "  2.074571132659912,\n",
              "  2.0303499698638916,\n",
              "  2.09965443611145,\n",
              "  2.080720901489258,\n",
              "  1.9856630563735962,\n",
              "  2.034414529800415,\n",
              "  1.9291614294052124,\n",
              "  1.9382350444793701,\n",
              "  1.9662270545959473,\n",
              "  1.9233850240707397,\n",
              "  2.029391050338745,\n",
              "  1.9573420286178589,\n",
              "  2.21189022064209,\n",
              "  2.245255947113037,\n",
              "  2.023216724395752,\n",
              "  1.9667555093765259,\n",
              "  1.9085147380828857,\n",
              "  1.887458086013794,\n",
              "  1.9938570261001587,\n",
              "  2.0161633491516113,\n",
              "  2.0869717597961426,\n",
              "  2.2141573429107666,\n",
              "  2.0035758018493652,\n",
              "  1.9444637298583984,\n",
              "  2.180603265762329,\n",
              "  2.084052085876465,\n",
              "  2.0775463581085205,\n",
              "  1.9852290153503418,\n",
              "  1.9827964305877686,\n",
              "  2.043339490890503,\n",
              "  1.9988386631011963,\n",
              "  2.1403071880340576,\n",
              "  1.9446184635162354,\n",
              "  2.045670509338379,\n",
              "  1.9842896461486816,\n",
              "  2.2445952892303467,\n",
              "  2.1616711616516113,\n",
              "  2.0618855953216553,\n",
              "  2.0056281089782715,\n",
              "  1.9523104429244995,\n",
              "  2.0059127807617188,\n",
              "  2.139706611633301,\n",
              "  2.0050415992736816,\n",
              "  2.1128909587860107,\n",
              "  1.9835602045059204,\n",
              "  2.017815589904785,\n",
              "  2.0410335063934326,\n",
              "  2.016146183013916,\n",
              "  1.935279130935669,\n",
              "  1.949866533279419,\n",
              "  2.0715739727020264,\n",
              "  1.9440252780914307,\n",
              "  2.0135109424591064,\n",
              "  2.039097785949707,\n",
              "  2.0929980278015137,\n",
              "  2.0335986614227295,\n",
              "  2.0115365982055664,\n",
              "  1.9744826555252075,\n",
              "  2.1621594429016113,\n",
              "  2.0180373191833496,\n",
              "  2.0220677852630615,\n",
              "  2.051042318344116,\n",
              "  2.0384700298309326,\n",
              "  2.115269184112549,\n",
              "  2.008594274520874,\n",
              "  2.1371917724609375,\n",
              "  2.099327564239502,\n",
              "  2.1996538639068604,\n",
              "  2.0166873931884766,\n",
              "  2.0377140045166016,\n",
              "  2.3040757179260254,\n",
              "  2.0590476989746094,\n",
              "  2.1213181018829346,\n",
              "  2.2820699214935303,\n",
              "  2.2017877101898193,\n",
              "  2.2518222332000732,\n",
              "  2.1962010860443115,\n",
              "  2.0651402473449707,\n",
              "  2.0754363536834717,\n",
              "  2.169489622116089,\n",
              "  2.071643114089966,\n",
              "  2.1141765117645264,\n",
              "  2.0327577590942383,\n",
              "  2.2238948345184326,\n",
              "  2.047899007797241,\n",
              "  2.1645917892456055,\n",
              "  2.1237189769744873,\n",
              "  2.0747432708740234,\n",
              "  2.297776699066162,\n",
              "  2.2022125720977783,\n",
              "  2.1054680347442627,\n",
              "  2.200711250305176,\n",
              "  2.0417544841766357,\n",
              "  2.121938943862915,\n",
              "  2.091902732849121,\n",
              "  2.207487106323242,\n",
              "  2.09338116645813,\n",
              "  2.1710383892059326,\n",
              "  2.0372211933135986,\n",
              "  2.214057207107544,\n",
              "  2.2875051498413086,\n",
              "  2.1297810077667236,\n",
              "  2.1151938438415527,\n",
              "  2.2459022998809814,\n",
              "  2.0949089527130127,\n",
              "  2.0788159370422363,\n",
              "  2.1427524089813232,\n",
              "  2.1314382553100586,\n",
              "  2.237694501876831,\n",
              "  2.24448561668396,\n",
              "  2.1092424392700195,\n",
              "  2.1492395401000977,\n",
              "  2.2580714225769043,\n",
              "  2.1629316806793213,\n",
              "  2.162491798400879,\n",
              "  2.1522183418273926,\n",
              "  2.183932065963745,\n",
              "  2.2297065258026123,\n",
              "  2.170848846435547,\n",
              "  2.3657772541046143,\n",
              "  2.5115160942077637,\n",
              "  2.2805917263031006,\n",
              "  2.405380964279175,\n",
              "  2.1390743255615234,\n",
              "  2.1292107105255127,\n",
              "  2.098715305328369,\n",
              "  2.2481706142425537,\n",
              "  2.2712595462799072,\n",
              "  2.2255189418792725,\n",
              "  2.0984439849853516,\n",
              "  2.276373863220215,\n",
              "  2.1395974159240723,\n",
              "  2.2403724193573,\n",
              "  2.104025363922119,\n",
              "  2.158278465270996,\n",
              "  2.233049154281616,\n",
              "  2.1627533435821533,\n",
              "  2.1471869945526123,\n",
              "  2.1528851985931396,\n",
              "  2.1661040782928467,\n",
              "  2.2136876583099365,\n",
              "  2.224231004714966,\n",
              "  2.294813632965088,\n",
              "  2.1728663444519043,\n",
              "  2.2078988552093506,\n",
              "  2.210278034210205,\n",
              "  2.143684148788452,\n",
              "  2.221837043762207,\n",
              "  2.1624555587768555,\n",
              "  2.269829750061035,\n",
              "  2.2168161869049072,\n",
              "  2.0875244140625,\n",
              "  2.2802133560180664,\n",
              "  2.247209072113037,\n",
              "  2.1248929500579834,\n",
              "  2.259962320327759,\n",
              "  2.107248067855835,\n",
              "  2.114792823791504,\n",
              "  2.1164650917053223,\n",
              "  2.216736078262329,\n",
              "  2.1595041751861572,\n",
              "  2.235659122467041,\n",
              "  2.3668622970581055,\n",
              "  2.3500468730926514,\n",
              "  2.1504671573638916,\n",
              "  2.318480968475342,\n",
              "  2.1905453205108643,\n",
              "  2.1443777084350586,\n",
              "  2.100904703140259,\n",
              "  2.2685108184814453,\n",
              "  2.3224587440490723,\n",
              "  2.1354401111602783,\n",
              "  2.2392728328704834,\n",
              "  2.3598008155822754,\n",
              "  2.3618505001068115,\n",
              "  2.2183868885040283,\n",
              "  2.258892297744751,\n",
              "  2.1998705863952637,\n",
              "  2.380397319793701,\n",
              "  2.2006173133850098,\n",
              "  2.1444568634033203,\n",
              "  2.292344093322754,\n",
              "  2.296297311782837,\n",
              "  2.1797690391540527,\n",
              "  2.1239664554595947,\n",
              "  2.354186534881592,\n",
              "  2.2386558055877686,\n",
              "  2.170072317123413,\n",
              "  2.227344274520874,\n",
              "  2.264449119567871,\n",
              "  2.3153462409973145,\n",
              "  2.2263927459716797,\n",
              "  2.303713321685791,\n",
              "  2.15032696723938,\n",
              "  2.3385393619537354,\n",
              "  2.1367976665496826,\n",
              "  2.223109006881714,\n",
              "  2.137822389602661,\n",
              "  2.3210999965667725,\n",
              "  2.4233903884887695,\n",
              "  2.246638059616089,\n",
              "  2.3176937103271484,\n",
              "  2.117572546005249,\n",
              "  2.09354567527771,\n",
              "  2.2817907333374023,\n",
              "  2.2184343338012695,\n",
              "  2.127216339111328,\n",
              "  2.112765073776245,\n",
              "  2.26289963722229,\n",
              "  2.319122791290283,\n",
              "  2.1989309787750244,\n",
              "  2.2283358573913574,\n",
              "  2.269818067550659,\n",
              "  2.1416261196136475,\n",
              "  2.213853359222412,\n",
              "  2.2479517459869385,\n",
              "  2.1494624614715576,\n",
              "  2.188380479812622,\n",
              "  2.1493000984191895,\n",
              "  2.1899614334106445,\n",
              "  2.24088716506958,\n",
              "  2.133028268814087,\n",
              "  2.3066587448120117,\n",
              "  2.167393922805786,\n",
              "  2.1591782569885254,\n",
              "  2.282813787460327,\n",
              "  2.19014835357666,\n",
              "  2.22757887840271,\n",
              "  2.2128257751464844,\n",
              "  2.185506582260132,\n",
              "  2.3500094413757324,\n",
              "  2.10223650932312,\n",
              "  2.2306463718414307,\n",
              "  2.1772639751434326,\n",
              "  2.2282586097717285,\n",
              "  2.163646936416626,\n",
              "  2.314443588256836,\n",
              "  2.284806251525879,\n",
              "  2.207792282104492,\n",
              "  2.214541435241699,\n",
              "  2.2720277309417725,\n",
              "  2.2108466625213623,\n",
              "  2.3212668895721436,\n",
              "  2.280672073364258,\n",
              "  2.227479934692383,\n",
              "  2.2855722904205322,\n",
              "  2.217039108276367,\n",
              "  2.236009359359741,\n",
              "  2.191892147064209,\n",
              "  2.4458324909210205,\n",
              "  2.285388708114624,\n",
              "  2.424048900604248,\n",
              "  2.2178854942321777,\n",
              "  2.121577262878418,\n",
              "  2.311490535736084,\n",
              "  2.278066873550415,\n",
              "  2.2438368797302246,\n",
              "  2.2912442684173584,\n",
              "  2.1517698764801025,\n",
              "  2.3421337604522705,\n",
              "  2.22383189201355,\n",
              "  2.154463529586792,\n",
              "  2.3390843868255615,\n",
              "  2.145078659057617,\n",
              "  2.2034571170806885,\n",
              "  2.1934030055999756,\n",
              "  2.216686964035034,\n",
              "  2.28100848197937,\n",
              "  2.2496602535247803,\n",
              "  2.2273521423339844,\n",
              "  2.2698049545288086,\n",
              "  2.2003355026245117,\n",
              "  2.334709882736206,\n",
              "  2.334981918334961,\n",
              "  2.2263481616973877,\n",
              "  2.33864426612854,\n",
              "  2.1393628120422363,\n",
              "  2.2095799446105957,\n",
              "  2.314429521560669,\n",
              "  2.3024563789367676,\n",
              "  2.3680429458618164,\n",
              "  2.242020606994629,\n",
              "  2.2549779415130615,\n",
              "  2.1997179985046387,\n",
              "  2.160433053970337,\n",
              "  2.134976863861084,\n",
              "  2.265437602996826,\n",
              "  2.2394139766693115,\n",
              "  2.2650821208953857,\n",
              "  2.178785800933838,\n",
              "  2.31988263130188,\n",
              "  2.252157211303711,\n",
              "  2.2183074951171875,\n",
              "  2.241300106048584,\n",
              "  2.1945912837982178,\n",
              "  2.2824337482452393,\n",
              "  2.3983657360076904,\n",
              "  2.3502347469329834,\n",
              "  2.2005159854888916,\n",
              "  2.1778721809387207,\n",
              "  2.3268439769744873,\n",
              "  2.2454071044921875,\n",
              "  2.2052557468414307,\n",
              "  2.1718084812164307,\n",
              "  2.1720046997070312,\n",
              "  2.251352548599243,\n",
              "  2.3340208530426025,\n",
              "  2.2077224254608154,\n",
              "  2.3041446208953857,\n",
              "  2.2218315601348877,\n",
              "  2.3826093673706055,\n",
              "  2.2519547939300537,\n",
              "  2.2549755573272705,\n",
              "  2.233858585357666,\n",
              "  2.362776517868042,\n",
              "  2.223484754562378,\n",
              "  2.5034735202789307,\n",
              "  2.2778871059417725,\n",
              "  2.184678316116333,\n",
              "  2.1977379322052,\n",
              "  2.243696689605713,\n",
              "  2.2888786792755127,\n",
              "  2.171510696411133,\n",
              "  2.3645620346069336,\n",
              "  2.327950954437256,\n",
              "  2.274501085281372,\n",
              "  2.1984918117523193,\n",
              "  2.3077850341796875,\n",
              "  2.2226409912109375,\n",
              "  2.281991720199585,\n",
              "  2.1907296180725098,\n",
              "  2.459618091583252,\n",
              "  2.2559356689453125,\n",
              "  2.3399038314819336,\n",
              "  2.3169069290161133,\n",
              "  2.404930353164673,\n",
              "  2.4459614753723145,\n",
              "  2.2698662281036377,\n",
              "  2.2804200649261475,\n",
              "  2.3148090839385986,\n",
              "  2.5258069038391113,\n",
              "  2.2212040424346924,\n",
              "  2.3452088832855225,\n",
              "  2.2378790378570557,\n",
              "  2.1805238723754883,\n",
              "  2.3946738243103027,\n",
              "  2.311779022216797,\n",
              "  2.255035161972046,\n",
              "  2.2463929653167725,\n",
              "  2.3119728565216064,\n",
              "  2.4114840030670166,\n",
              "  2.4542605876922607,\n",
              "  2.2275888919830322,\n",
              "  2.5054008960723877,\n",
              "  2.4511559009552,\n",
              "  2.2157795429229736,\n",
              "  2.3527719974517822,\n",
              "  2.296414852142334,\n",
              "  2.2160003185272217,\n",
              "  2.3356971740722656,\n",
              "  2.4081411361694336,\n",
              "  2.3585190773010254,\n",
              "  2.3059751987457275,\n",
              "  2.29329776763916,\n",
              "  2.257509231567383,\n",
              "  2.3281028270721436,\n",
              "  2.2626724243164062,\n",
              "  2.2422218322753906,\n",
              "  2.3098337650299072,\n",
              "  2.301412582397461,\n",
              "  2.531639814376831,\n",
              "  2.3261072635650635,\n",
              "  2.3758113384246826,\n",
              "  2.3306477069854736,\n",
              "  2.2366669178009033,\n",
              "  2.3349831104278564,\n",
              "  2.273397445678711,\n",
              "  2.2708468437194824,\n",
              "  2.3709516525268555,\n",
              "  2.3190717697143555,\n",
              "  2.282378911972046,\n",
              "  2.362745523452759,\n",
              "  2.242124557495117,\n",
              "  2.3130717277526855,\n",
              "  2.2580325603485107,\n",
              "  2.2966418266296387,\n",
              "  2.30362606048584,\n",
              "  2.3438405990600586,\n",
              "  2.293882369995117,\n",
              "  2.2833991050720215,\n",
              "  2.2572250366210938,\n",
              "  2.3402068614959717,\n",
              "  2.37170147895813,\n",
              "  2.4166793823242188,\n",
              "  2.303316116333008,\n",
              "  2.3297688961029053,\n",
              "  2.479487419128418,\n",
              "  2.2590296268463135,\n",
              "  2.274855852127075,\n",
              "  2.377444267272949,\n",
              "  2.331326961517334,\n",
              "  2.33148455619812,\n",
              "  2.319045066833496,\n",
              "  2.288795232772827,\n",
              "  2.364731550216675,\n",
              "  2.3447062969207764,\n",
              "  2.3611226081848145,\n",
              "  2.3037025928497314,\n",
              "  2.4111268520355225,\n",
              "  2.3446109294891357,\n",
              "  2.3176779747009277,\n",
              "  2.326051712036133,\n",
              "  2.3442091941833496,\n",
              "  2.4021003246307373,\n",
              "  2.334806203842163,\n",
              "  2.5542056560516357,\n",
              "  2.3258447647094727],\n",
              " [18.314010620117188,\n",
              "  14.765697479248047,\n",
              "  10.48176097869873,\n",
              "  7.271383285522461,\n",
              "  5.6538472175598145,\n",
              "  4.627211570739746,\n",
              "  3.8765506744384766,\n",
              "  3.4004464149475098,\n",
              "  3.169999122619629,\n",
              "  3.3026862144470215,\n",
              "  3.0803887844085693,\n",
              "  2.964008331298828,\n",
              "  2.8562843799591064,\n",
              "  2.961107015609741,\n",
              "  2.7947616577148438,\n",
              "  2.752648115158081,\n",
              "  2.789155960083008,\n",
              "  2.8223536014556885,\n",
              "  2.901628017425537,\n",
              "  2.775240659713745,\n",
              "  2.6624021530151367,\n",
              "  2.7443630695343018,\n",
              "  2.677574634552002,\n",
              "  2.62811017036438,\n",
              "  2.6570119857788086,\n",
              "  2.654125928878784,\n",
              "  2.6581919193267822,\n",
              "  2.6672706604003906,\n",
              "  2.662576198577881,\n",
              "  2.637899160385132,\n",
              "  2.617051124572754,\n",
              "  3.209881067276001,\n",
              "  2.7634119987487793,\n",
              "  2.594036340713501,\n",
              "  2.7551002502441406,\n",
              "  2.6283886432647705,\n",
              "  2.695028781890869,\n",
              "  2.6730074882507324,\n",
              "  2.557572364807129,\n",
              "  2.5846195220947266,\n",
              "  2.5055770874023438,\n",
              "  2.66874623298645,\n",
              "  2.6709632873535156,\n",
              "  2.7162654399871826,\n",
              "  2.7260549068450928,\n",
              "  2.579559087753296,\n",
              "  2.6414401531219482,\n",
              "  2.6215360164642334,\n",
              "  2.685537815093994,\n",
              "  2.536184787750244,\n",
              "  2.642834424972534,\n",
              "  2.527616500854492,\n",
              "  2.5696535110473633,\n",
              "  2.553229331970215,\n",
              "  2.604515790939331,\n",
              "  2.4919629096984863,\n",
              "  2.5861682891845703,\n",
              "  2.541438579559326,\n",
              "  2.4803760051727295,\n",
              "  2.512178897857666,\n",
              "  2.6458523273468018,\n",
              "  2.692186117172241,\n",
              "  2.586482048034668,\n",
              "  2.562044143676758,\n",
              "  2.5383729934692383,\n",
              "  2.54677677154541,\n",
              "  2.4625227451324463,\n",
              "  2.5134942531585693,\n",
              "  2.4804177284240723,\n",
              "  2.7876124382019043,\n",
              "  2.5255849361419678,\n",
              "  2.4734067916870117,\n",
              "  2.584980010986328,\n",
              "  2.560699224472046,\n",
              "  2.441882371902466,\n",
              "  2.473982334136963,\n",
              "  2.4955132007598877,\n",
              "  2.4449222087860107,\n",
              "  2.498871088027954,\n",
              "  2.5381808280944824,\n",
              "  2.5620527267456055,\n",
              "  2.6239898204803467,\n",
              "  2.615380048751831,\n",
              "  2.5453341007232666,\n",
              "  2.500542402267456,\n",
              "  2.5804288387298584,\n",
              "  2.453089952468872,\n",
              "  2.477569580078125,\n",
              "  2.5757195949554443,\n",
              "  2.481919527053833,\n",
              "  2.48290753364563,\n",
              "  2.4220809936523438,\n",
              "  2.589754581451416,\n",
              "  2.384690999984741,\n",
              "  2.4546315670013428,\n",
              "  2.464426279067993,\n",
              "  2.406890630722046,\n",
              "  2.538315773010254,\n",
              "  2.4394426345825195,\n",
              "  2.6198625564575195,\n",
              "  2.5055532455444336,\n",
              "  2.57580828666687,\n",
              "  2.656297445297241,\n",
              "  2.50346302986145,\n",
              "  2.3940799236297607,\n",
              "  2.5382351875305176,\n",
              "  2.4715707302093506,\n",
              "  2.3490779399871826,\n",
              "  2.4066362380981445,\n",
              "  2.429487466812134,\n",
              "  2.6021358966827393,\n",
              "  2.5224223136901855,\n",
              "  2.422578811645508,\n",
              "  2.3213231563568115,\n",
              "  2.3703463077545166,\n",
              "  2.3784334659576416,\n",
              "  2.4535887241363525,\n",
              "  2.516033172607422,\n",
              "  2.372229814529419,\n",
              "  2.514655590057373,\n",
              "  2.4377264976501465,\n",
              "  2.3852627277374268,\n",
              "  2.3652429580688477,\n",
              "  2.3880386352539062,\n",
              "  2.529630184173584,\n",
              "  2.460486888885498,\n",
              "  2.406038284301758,\n",
              "  2.4090631008148193,\n",
              "  2.4063785076141357,\n",
              "  2.3881092071533203,\n",
              "  2.3092520236968994,\n",
              "  2.4459588527679443,\n",
              "  2.506302833557129,\n",
              "  2.330435037612915,\n",
              "  2.4025702476501465,\n",
              "  2.5719707012176514,\n",
              "  2.3666088581085205,\n",
              "  2.5490450859069824,\n",
              "  2.3967225551605225,\n",
              "  2.477612257003784,\n",
              "  2.3257994651794434,\n",
              "  2.333974599838257,\n",
              "  2.3316619396209717,\n",
              "  2.3395955562591553,\n",
              "  2.37148380279541,\n",
              "  2.31005597114563,\n",
              "  2.3645548820495605,\n",
              "  2.4075264930725098,\n",
              "  2.3043510913848877,\n",
              "  2.3875327110290527,\n",
              "  2.3169493675231934,\n",
              "  2.4216949939727783,\n",
              "  2.4235734939575195,\n",
              "  2.3368372917175293,\n",
              "  2.3530170917510986,\n",
              "  2.3972008228302,\n",
              "  2.4860856533050537,\n",
              "  2.382923126220703,\n",
              "  2.4027047157287598,\n",
              "  2.3807363510131836,\n",
              "  2.3466598987579346,\n",
              "  2.3165760040283203,\n",
              "  2.34952712059021,\n",
              "  2.4316370487213135,\n",
              "  2.4235148429870605,\n",
              "  2.436270236968994,\n",
              "  2.5664596557617188,\n",
              "  2.5620999336242676,\n",
              "  2.5411276817321777,\n",
              "  2.363405227661133,\n",
              "  2.4307665824890137,\n",
              "  2.3635401725769043,\n",
              "  2.3988149166107178,\n",
              "  2.5088324546813965,\n",
              "  2.6002488136291504,\n",
              "  2.558084726333618,\n",
              "  2.5402207374572754,\n",
              "  2.44663405418396,\n",
              "  2.3662033081054688,\n",
              "  2.4817802906036377,\n",
              "  2.5038397312164307,\n",
              "  2.3452377319335938,\n",
              "  2.579263925552368,\n",
              "  2.423762321472168,\n",
              "  2.4927139282226562,\n",
              "  2.4149649143218994,\n",
              "  2.5862960815429688,\n",
              "  2.4133570194244385,\n",
              "  2.4126155376434326,\n",
              "  2.3973333835601807,\n",
              "  2.5553905963897705,\n",
              "  2.365137815475464,\n",
              "  2.5869252681732178,\n",
              "  2.4140560626983643,\n",
              "  2.3642947673797607,\n",
              "  2.4839529991149902,\n",
              "  2.4426724910736084,\n",
              "  2.481224775314331,\n",
              "  2.534144639968872,\n",
              "  2.578254222869873,\n",
              "  2.378636121749878,\n",
              "  2.412827253341675,\n",
              "  2.4003591537475586,\n",
              "  2.3603315353393555,\n",
              "  2.3988993167877197,\n",
              "  2.4894728660583496,\n",
              "  2.5301551818847656,\n",
              "  2.3329267501831055,\n",
              "  2.4668524265289307,\n",
              "  2.443321466445923,\n",
              "  2.586134433746338,\n",
              "  2.412984609603882,\n",
              "  2.6398980617523193,\n",
              "  2.3726961612701416,\n",
              "  2.392232656478882,\n",
              "  2.416186571121216,\n",
              "  2.3510794639587402,\n",
              "  2.5258591175079346,\n",
              "  2.5750415325164795,\n",
              "  2.4375786781311035,\n",
              "  2.443704605102539,\n",
              "  2.3819332122802734,\n",
              "  2.5597379207611084,\n",
              "  2.316295862197876,\n",
              "  2.623100757598877,\n",
              "  2.4284870624542236,\n",
              "  2.5162363052368164,\n",
              "  2.764646530151367,\n",
              "  2.4658031463623047,\n",
              "  2.4519004821777344,\n",
              "  2.400616407394409,\n",
              "  2.3825020790100098,\n",
              "  2.5616538524627686,\n",
              "  2.4676547050476074,\n",
              "  2.3863418102264404,\n",
              "  2.465517520904541,\n",
              "  2.7326817512512207,\n",
              "  2.4238779544830322,\n",
              "  2.487670421600342,\n",
              "  2.5197291374206543,\n",
              "  2.489758253097534,\n",
              "  2.557863712310791,\n",
              "  2.4891700744628906,\n",
              "  2.6634035110473633,\n",
              "  2.6430299282073975,\n",
              "  2.370105743408203,\n",
              "  2.521390438079834,\n",
              "  2.496713161468506,\n",
              "  2.6652820110321045,\n",
              "  2.369128942489624,\n",
              "  2.558819055557251,\n",
              "  2.581089735031128,\n",
              "  2.6983537673950195,\n",
              "  2.7314796447753906,\n",
              "  2.5765042304992676,\n",
              "  2.500525712966919,\n",
              "  2.714651584625244,\n",
              "  2.732022762298584,\n",
              "  2.5743935108184814,\n",
              "  2.473301649093628,\n",
              "  2.4038612842559814,\n",
              "  2.50064754486084,\n",
              "  2.5195319652557373,\n",
              "  2.3403351306915283,\n",
              "  2.4750564098358154,\n",
              "  2.4989209175109863,\n",
              "  2.5100505352020264,\n",
              "  2.4796230792999268,\n",
              "  2.62796688079834,\n",
              "  2.513493537902832,\n",
              "  2.502063274383545,\n",
              "  2.6546480655670166,\n",
              "  2.6554181575775146,\n",
              "  2.6891138553619385,\n",
              "  2.509592294692993,\n",
              "  2.6948630809783936,\n",
              "  2.655346632003784,\n",
              "  2.549328565597534,\n",
              "  2.493853807449341,\n",
              "  2.536156415939331,\n",
              "  2.6722235679626465,\n",
              "  2.6183090209960938,\n",
              "  2.5009424686431885,\n",
              "  2.520817279815674,\n",
              "  2.5832815170288086,\n",
              "  2.7229976654052734,\n",
              "  2.4482126235961914,\n",
              "  2.4315249919891357,\n",
              "  2.994211435317993,\n",
              "  2.5263071060180664,\n",
              "  2.805889368057251,\n",
              "  2.6948602199554443,\n",
              "  2.569366455078125,\n",
              "  2.6751983165740967,\n",
              "  2.4834370613098145,\n",
              "  2.6875193119049072,\n",
              "  2.8526973724365234,\n",
              "  2.7634711265563965,\n",
              "  2.654582977294922,\n",
              "  2.4986464977264404,\n",
              "  2.665836811065674,\n",
              "  2.5417442321777344,\n",
              "  2.5876095294952393,\n",
              "  2.704458475112915,\n",
              "  2.6218881607055664,\n",
              "  2.5578038692474365,\n",
              "  2.4690165519714355,\n",
              "  2.8271498680114746,\n",
              "  2.7325873374938965,\n",
              "  2.7234506607055664,\n",
              "  2.5415968894958496,\n",
              "  2.5966222286224365,\n",
              "  2.4967002868652344,\n",
              "  2.6349143981933594,\n",
              "  2.678537130355835,\n",
              "  2.527167558670044,\n",
              "  2.758248805999756,\n",
              "  2.541208028793335,\n",
              "  2.5003159046173096,\n",
              "  2.70717716217041,\n",
              "  2.61946702003479,\n",
              "  2.6115610599517822,\n",
              "  2.6504008769989014,\n",
              "  2.568080425262451,\n",
              "  2.569211721420288,\n",
              "  2.6138675212860107,\n",
              "  2.7437872886657715,\n",
              "  2.757364511489868,\n",
              "  2.7024588584899902,\n",
              "  2.7100672721862793,\n",
              "  3.1316404342651367,\n",
              "  2.6677424907684326,\n",
              "  2.7442450523376465,\n",
              "  2.6257412433624268,\n",
              "  2.537663221359253,\n",
              "  2.5369017124176025,\n",
              "  2.62436842918396,\n",
              "  2.4755172729492188,\n",
              "  2.6414904594421387,\n",
              "  2.6861934661865234,\n",
              "  2.7073521614074707,\n",
              "  2.761949062347412,\n",
              "  2.6584291458129883,\n",
              "  2.588642120361328,\n",
              "  2.678962230682373,\n",
              "  2.604795455932617,\n",
              "  2.837581157684326,\n",
              "  2.670905590057373,\n",
              "  2.7640392780303955,\n",
              "  2.687162160873413,\n",
              "  2.6210834980010986,\n",
              "  2.7834606170654297,\n",
              "  2.5714423656463623,\n",
              "  2.7117254734039307,\n",
              "  2.7581121921539307,\n",
              "  2.9682042598724365,\n",
              "  2.657932996749878,\n",
              "  2.8773033618927,\n",
              "  2.6629366874694824,\n",
              "  2.7069525718688965,\n",
              "  2.7029123306274414,\n",
              "  2.5882186889648438,\n",
              "  2.6201388835906982,\n",
              "  2.7903637886047363,\n",
              "  2.4970195293426514,\n",
              "  2.6967051029205322,\n",
              "  2.700518846511841,\n",
              "  2.7276878356933594,\n",
              "  2.848965883255005,\n",
              "  2.6025378704071045,\n",
              "  2.741358995437622,\n",
              "  2.66721248626709,\n",
              "  2.739881753921509,\n",
              "  2.7463176250457764,\n",
              "  2.5713226795196533,\n",
              "  2.675452709197998,\n",
              "  2.9432239532470703,\n",
              "  2.5942721366882324,\n",
              "  2.642634868621826,\n",
              "  2.589520215988159,\n",
              "  2.7262892723083496,\n",
              "  2.746478796005249,\n",
              "  2.6015751361846924,\n",
              "  2.6229019165039062,\n",
              "  2.692142963409424,\n",
              "  2.6748454570770264,\n",
              "  2.6674251556396484,\n",
              "  2.702634334564209,\n",
              "  2.9896814823150635,\n",
              "  2.738555908203125,\n",
              "  3.092304229736328,\n",
              "  2.822213649749756,\n",
              "  2.735212802886963,\n",
              "  2.739628314971924,\n",
              "  2.6941261291503906,\n",
              "  2.6999175548553467,\n",
              "  2.703859329223633,\n",
              "  2.9035472869873047,\n",
              "  2.6837995052337646,\n",
              "  2.6891536712646484,\n",
              "  2.8066952228546143,\n",
              "  2.785156011581421,\n",
              "  2.5781633853912354,\n",
              "  2.9092676639556885,\n",
              "  2.7050743103027344,\n",
              "  2.574965000152588,\n",
              "  2.6170318126678467,\n",
              "  2.7066121101379395,\n",
              "  2.6266627311706543,\n",
              "  2.709886074066162,\n",
              "  2.748086452484131,\n",
              "  2.6988048553466797,\n",
              "  2.6887683868408203,\n",
              "  2.8635318279266357,\n",
              "  2.961665391921997,\n",
              "  2.8278989791870117,\n",
              "  2.756505012512207,\n",
              "  2.737882137298584,\n",
              "  2.774325132369995,\n",
              "  2.7154152393341064,\n",
              "  2.7594106197357178,\n",
              "  2.972792148590088,\n",
              "  2.6955275535583496,\n",
              "  2.7333691120147705,\n",
              "  2.896927833557129,\n",
              "  3.060128688812256,\n",
              "  2.6733508110046387,\n",
              "  2.6764845848083496,\n",
              "  2.7853009700775146,\n",
              "  2.8703396320343018,\n",
              "  2.6489667892456055,\n",
              "  2.728142261505127,\n",
              "  2.85317063331604,\n",
              "  2.806784152984619,\n",
              "  2.743994951248169,\n",
              "  2.7208173274993896,\n",
              "  2.775341033935547,\n",
              "  2.694732666015625,\n",
              "  2.9325382709503174,\n",
              "  2.719125270843506,\n",
              "  2.7604527473449707,\n",
              "  2.792400360107422,\n",
              "  2.8286337852478027,\n",
              "  2.7363200187683105,\n",
              "  2.712980031967163,\n",
              "  2.826277017593384,\n",
              "  2.784301996231079,\n",
              "  2.7643566131591797,\n",
              "  2.940234422683716,\n",
              "  2.7490732669830322,\n",
              "  2.7410223484039307,\n",
              "  2.8250346183776855,\n",
              "  2.843759059906006,\n",
              "  2.698983669281006,\n",
              "  2.8402585983276367,\n",
              "  2.8828158378601074,\n",
              "  2.771989583969116,\n",
              "  2.724369764328003,\n",
              "  2.897254467010498,\n",
              "  2.9070026874542236,\n",
              "  2.747791051864624,\n",
              "  3.1407506465911865,\n",
              "  2.761084794998169,\n",
              "  2.7783398628234863,\n",
              "  2.8516221046447754,\n",
              "  2.859309196472168,\n",
              "  2.791632652282715,\n",
              "  2.9037551879882812,\n",
              "  2.9114749431610107,\n",
              "  2.7994329929351807,\n",
              "  2.8746166229248047,\n",
              "  2.727820873260498,\n",
              "  2.6638364791870117,\n",
              "  2.8829891681671143,\n",
              "  3.0027806758880615,\n",
              "  2.9012808799743652,\n",
              "  2.8222765922546387,\n",
              "  2.9065239429473877,\n",
              "  2.782893419265747,\n",
              "  2.8102455139160156,\n",
              "  2.7334628105163574,\n",
              "  2.7353243827819824,\n",
              "  2.7107479572296143,\n",
              "  2.9516656398773193,\n",
              "  2.6594998836517334,\n",
              "  2.696748971939087,\n",
              "  2.815850257873535,\n",
              "  2.6696667671203613,\n",
              "  2.8583498001098633,\n",
              "  2.7548909187316895,\n",
              "  2.6595635414123535,\n",
              "  2.9787650108337402,\n",
              "  2.9084324836730957,\n",
              "  2.7329399585723877,\n",
              "  2.896350145339966,\n",
              "  3.0397696495056152,\n",
              "  2.869856119155884,\n",
              "  2.7511110305786133,\n",
              "  2.808154821395874,\n",
              "  2.716459274291992],\n",
              " [18.08331871032715,\n",
              "  14.65279483795166,\n",
              "  10.696748733520508,\n",
              "  7.818774700164795,\n",
              "  6.005774974822998,\n",
              "  4.76901388168335,\n",
              "  3.904257297515869,\n",
              "  3.5080904960632324,\n",
              "  3.3171892166137695,\n",
              "  3.1211087703704834,\n",
              "  3.0107572078704834,\n",
              "  2.875185489654541,\n",
              "  2.811908721923828,\n",
              "  2.7216415405273438,\n",
              "  2.634129047393799,\n",
              "  2.556579351425171,\n",
              "  2.541214942932129,\n",
              "  2.5013437271118164,\n",
              "  2.5428004264831543,\n",
              "  2.5103695392608643,\n",
              "  2.4819352626800537,\n",
              "  2.5287861824035645,\n",
              "  2.5080854892730713,\n",
              "  2.5058958530426025,\n",
              "  2.5833280086517334,\n",
              "  2.5815701484680176,\n",
              "  2.520019292831421,\n",
              "  2.5909013748168945,\n",
              "  2.5059292316436768,\n",
              "  2.562215566635132,\n",
              "  2.5222723484039307,\n",
              "  2.538151502609253,\n",
              "  2.5657618045806885,\n",
              "  2.5211341381073,\n",
              "  2.5154895782470703,\n",
              "  2.537632942199707,\n",
              "  2.5083141326904297,\n",
              "  2.532870292663574,\n",
              "  2.499218702316284,\n",
              "  2.519437313079834,\n",
              "  2.4730312824249268,\n",
              "  2.493117332458496,\n",
              "  2.5179054737091064,\n",
              "  2.496819019317627,\n",
              "  2.5123674869537354,\n",
              "  2.489192247390747,\n",
              "  2.4397196769714355,\n",
              "  2.452120304107666,\n",
              "  2.5545246601104736,\n",
              "  2.4814958572387695,\n",
              "  2.461690664291382,\n",
              "  2.454275369644165,\n",
              "  2.496201753616333,\n",
              "  2.4866888523101807,\n",
              "  2.4926743507385254,\n",
              "  2.6211347579956055,\n",
              "  2.4651029109954834,\n",
              "  2.5001347064971924,\n",
              "  2.488546133041382,\n",
              "  2.462111234664917,\n",
              "  2.532095432281494,\n",
              "  2.502992630004883,\n",
              "  2.5388057231903076,\n",
              "  2.543827533721924,\n",
              "  2.458163261413574,\n",
              "  2.420403242111206,\n",
              "  2.4613287448883057,\n",
              "  2.5502564907073975,\n",
              "  2.4606094360351562,\n",
              "  2.4818079471588135,\n",
              "  2.4849884510040283,\n",
              "  2.4943161010742188,\n",
              "  2.613955020904541,\n",
              "  2.434581756591797,\n",
              "  2.4760780334472656,\n",
              "  2.443352460861206,\n",
              "  2.4227452278137207,\n",
              "  2.434281349182129,\n",
              "  2.564746856689453,\n",
              "  2.4141135215759277,\n",
              "  2.448150873184204,\n",
              "  2.4150984287261963,\n",
              "  2.417526960372925,\n",
              "  2.4806995391845703,\n",
              "  2.42987060546875,\n",
              "  2.43087100982666,\n",
              "  2.423619508743286,\n",
              "  2.4705731868743896,\n",
              "  2.463707208633423,\n",
              "  2.415539026260376,\n",
              "  2.4262804985046387,\n",
              "  2.4387319087982178,\n",
              "  2.4300267696380615,\n",
              "  2.45879864692688,\n",
              "  2.4584357738494873,\n",
              "  2.4858791828155518,\n",
              "  2.473076581954956,\n",
              "  2.55241322517395,\n",
              "  2.611253499984741,\n",
              "  2.451000452041626,\n",
              "  2.4376654624938965,\n",
              "  2.421923875808716,\n",
              "  2.4708657264709473,\n",
              "  2.4272351264953613,\n",
              "  2.563120126724243,\n",
              "  2.44213604927063,\n",
              "  2.413789749145508,\n",
              "  2.3947837352752686,\n",
              "  2.4274368286132812,\n",
              "  2.536829948425293,\n",
              "  2.389373540878296,\n",
              "  2.4502265453338623,\n",
              "  2.4658353328704834,\n",
              "  2.45280122756958,\n",
              "  2.4101152420043945,\n",
              "  2.4660961627960205,\n",
              "  2.4412412643432617,\n",
              "  2.414820671081543,\n",
              "  2.4863789081573486,\n",
              "  2.698721408843994,\n",
              "  2.4379727840423584,\n",
              "  2.450686454772949,\n",
              "  2.4717862606048584,\n",
              "  2.478961229324341,\n",
              "  2.416078805923462,\n",
              "  2.3855929374694824,\n",
              "  2.471329927444458,\n",
              "  2.507573127746582,\n",
              "  2.390065908432007,\n",
              "  2.376288890838623,\n",
              "  2.453057050704956,\n",
              "  2.5016496181488037,\n",
              "  2.355116605758667,\n",
              "  2.3660058975219727,\n",
              "  2.457156181335449,\n",
              "  2.3958580493927,\n",
              "  2.3931000232696533,\n",
              "  2.4213004112243652,\n",
              "  2.3810813426971436,\n",
              "  2.4856271743774414,\n",
              "  2.3912734985351562,\n",
              "  2.5271353721618652,\n",
              "  2.4544246196746826,\n",
              "  2.4285178184509277,\n",
              "  2.3796920776367188,\n",
              "  2.4221508502960205,\n",
              "  2.46148419380188,\n",
              "  2.4376494884490967,\n",
              "  2.5040431022644043,\n",
              "  2.40100359916687,\n",
              "  2.414175271987915,\n",
              "  2.4049627780914307,\n",
              "  2.416109323501587,\n",
              "  2.4430384635925293,\n",
              "  2.419637680053711,\n",
              "  2.4171319007873535,\n",
              "  2.3960201740264893,\n",
              "  2.453258514404297,\n",
              "  2.418280601501465,\n",
              "  2.4714977741241455,\n",
              "  2.414137840270996,\n",
              "  2.4519734382629395,\n",
              "  2.497878074645996,\n",
              "  2.3988664150238037,\n",
              "  2.4358057975769043,\n",
              "  2.4280970096588135,\n",
              "  2.393878936767578,\n",
              "  2.4368834495544434,\n",
              "  2.439157247543335,\n",
              "  2.424426794052124,\n",
              "  2.381843328475952,\n",
              "  2.425841808319092,\n",
              "  2.44872784614563,\n",
              "  2.416996955871582,\n",
              "  2.417191982269287,\n",
              "  2.3833107948303223,\n",
              "  2.4526426792144775,\n",
              "  2.447260856628418,\n",
              "  2.4516968727111816,\n",
              "  2.4059150218963623,\n",
              "  2.3991265296936035,\n",
              "  2.43078875541687,\n",
              "  2.4027655124664307,\n",
              "  2.4256999492645264,\n",
              "  2.424095869064331,\n",
              "  2.4494545459747314,\n",
              "  2.390812635421753,\n",
              "  2.4020698070526123,\n",
              "  2.4560699462890625,\n",
              "  2.439664363861084,\n",
              "  2.4282615184783936,\n",
              "  2.3940398693084717,\n",
              "  2.405062437057495,\n",
              "  2.4960551261901855,\n",
              "  2.456470251083374,\n",
              "  2.366230010986328,\n",
              "  2.448404312133789,\n",
              "  2.361206293106079,\n",
              "  2.4054136276245117,\n",
              "  2.403754711151123,\n",
              "  2.3862996101379395,\n",
              "  2.451154947280884,\n",
              "  2.367981433868408,\n",
              "  2.4027867317199707,\n",
              "  2.410546064376831,\n",
              "  2.402129888534546,\n",
              "  2.3965976238250732,\n",
              "  2.447801113128662,\n",
              "  2.4331629276275635,\n",
              "  2.4452028274536133,\n",
              "  2.4209532737731934,\n",
              "  2.436105966567993,\n",
              "  2.3820762634277344,\n",
              "  2.397221088409424,\n",
              "  2.4859447479248047,\n",
              "  2.3998143672943115,\n",
              "  2.414018154144287,\n",
              "  2.344315767288208,\n",
              "  2.4037277698516846,\n",
              "  2.451589822769165,\n",
              "  2.3911871910095215,\n",
              "  2.4241161346435547,\n",
              "  2.4010589122772217,\n",
              "  2.436692714691162,\n",
              "  2.4064507484436035,\n",
              "  2.5050785541534424,\n",
              "  2.411698818206787,\n",
              "  2.3861262798309326,\n",
              "  2.477621555328369,\n",
              "  2.45639967918396,\n",
              "  2.5453693866729736,\n",
              "  2.4087579250335693,\n",
              "  2.418391704559326,\n",
              "  2.433260202407837,\n",
              "  2.3909592628479004,\n",
              "  2.4083588123321533,\n",
              "  2.419841766357422,\n",
              "  2.4178876876831055,\n",
              "  2.4084908962249756,\n",
              "  2.4134671688079834,\n",
              "  2.3729617595672607,\n",
              "  2.3674230575561523,\n",
              "  2.4144113063812256,\n",
              "  2.3972976207733154,\n",
              "  2.4140894412994385,\n",
              "  2.443619728088379,\n",
              "  2.423856258392334,\n",
              "  2.431748390197754,\n",
              "  2.437793016433716,\n",
              "  2.440913438796997,\n",
              "  2.400306224822998,\n",
              "  2.3985111713409424,\n",
              "  2.397462844848633,\n",
              "  2.4309351444244385,\n",
              "  2.433579206466675,\n",
              "  2.447625160217285,\n",
              "  2.4179511070251465,\n",
              "  2.3939900398254395,\n",
              "  2.380693197250366,\n",
              "  2.443657398223877,\n",
              "  2.395484209060669,\n",
              "  2.3691773414611816,\n",
              "  2.446808099746704,\n",
              "  2.4879841804504395,\n",
              "  2.402392625808716,\n",
              "  2.4130828380584717,\n",
              "  2.4023303985595703,\n",
              "  2.4300196170806885,\n",
              "  2.407750129699707,\n",
              "  2.4496870040893555,\n",
              "  2.3805465698242188,\n",
              "  2.3969006538391113,\n",
              "  2.379570722579956,\n",
              "  2.4097511768341064,\n",
              "  2.409381866455078,\n",
              "  2.449659585952759,\n",
              "  2.420656442642212,\n",
              "  2.4946541786193848,\n",
              "  2.4000401496887207,\n",
              "  2.3830881118774414,\n",
              "  2.4370052814483643,\n",
              "  2.4604647159576416,\n",
              "  2.412013053894043,\n",
              "  2.4393255710601807,\n",
              "  2.440126895904541,\n",
              "  2.5015859603881836,\n",
              "  2.4540982246398926,\n",
              "  2.47222638130188,\n",
              "  2.4510421752929688,\n",
              "  2.4225869178771973,\n",
              "  2.421302318572998,\n",
              "  2.4591004848480225,\n",
              "  2.417177677154541,\n",
              "  2.4840991497039795,\n",
              "  2.4328768253326416,\n",
              "  2.445138692855835,\n",
              "  2.3875107765197754,\n",
              "  2.4090805053710938,\n",
              "  2.4139857292175293,\n",
              "  2.4553871154785156,\n",
              "  2.4046380519866943,\n",
              "  2.4066622257232666,\n",
              "  2.4483835697174072,\n",
              "  2.4295597076416016,\n",
              "  2.486797332763672,\n",
              "  2.5077292919158936,\n",
              "  2.4765429496765137,\n",
              "  2.4110562801361084,\n",
              "  2.4168806076049805,\n",
              "  2.448276996612549,\n",
              "  2.4349052906036377,\n",
              "  2.4140143394470215,\n",
              "  2.410736560821533,\n",
              "  2.4387333393096924,\n",
              "  2.4805843830108643,\n",
              "  2.501736879348755,\n",
              "  2.4129793643951416,\n",
              "  2.413175106048584,\n",
              "  2.3900058269500732,\n",
              "  2.4036710262298584,\n",
              "  2.3709709644317627,\n",
              "  2.427530527114868,\n",
              "  2.4655799865722656,\n",
              "  2.430532693862915,\n",
              "  2.459583282470703,\n",
              "  2.440222978591919,\n",
              "  2.4377079010009766,\n",
              "  2.4466757774353027,\n",
              "  2.4431307315826416,\n",
              "  2.436974048614502,\n",
              "  2.4620540142059326,\n",
              "  2.4265990257263184,\n",
              "  2.4774115085601807,\n",
              "  2.4201419353485107,\n",
              "  2.4860680103302,\n",
              "  2.5501983165740967,\n",
              "  2.4454078674316406,\n",
              "  2.4795212745666504,\n",
              "  2.4883198738098145,\n",
              "  2.482455015182495,\n",
              "  2.4251179695129395,\n",
              "  2.488647222518921,\n",
              "  2.442263603210449,\n",
              "  2.4369378089904785,\n",
              "  2.426208734512329,\n",
              "  2.472649097442627,\n",
              "  2.4593517780303955,\n",
              "  2.445833683013916,\n",
              "  2.446316957473755,\n",
              "  2.4740569591522217,\n",
              "  2.464811325073242,\n",
              "  2.4409871101379395,\n",
              "  2.5161304473876953,\n",
              "  2.5057320594787598,\n",
              "  2.466869354248047,\n",
              "  2.5200066566467285,\n",
              "  2.503251075744629,\n",
              "  2.448429584503174,\n",
              "  2.441554546356201,\n",
              "  2.526554584503174,\n",
              "  2.473219633102417,\n",
              "  2.4625892639160156,\n",
              "  2.4712352752685547,\n",
              "  2.5041139125823975,\n",
              "  2.5034754276275635,\n",
              "  2.4587507247924805,\n",
              "  2.4251325130462646,\n",
              "  2.5120961666107178,\n",
              "  2.5059378147125244,\n",
              "  2.5413389205932617,\n",
              "  2.476865530014038,\n",
              "  2.4884002208709717,\n",
              "  2.5165622234344482,\n",
              "  2.486030101776123,\n",
              "  2.5024030208587646,\n",
              "  2.482235908508301,\n",
              "  2.497490406036377,\n",
              "  2.4707419872283936,\n",
              "  2.433905839920044,\n",
              "  2.477261781692505,\n",
              "  2.4238226413726807,\n",
              "  2.4671273231506348,\n",
              "  2.472241163253784,\n",
              "  2.506868362426758,\n",
              "  2.4931485652923584,\n",
              "  2.471827983856201,\n",
              "  2.5456957817077637,\n",
              "  2.5040128231048584,\n",
              "  2.477449893951416,\n",
              "  2.507807731628418,\n",
              "  2.4642467498779297,\n",
              "  2.5040640830993652,\n",
              "  2.504446268081665,\n",
              "  2.460930109024048,\n",
              "  2.471756935119629,\n",
              "  2.4891653060913086,\n",
              "  2.5279812812805176,\n",
              "  2.5406742095947266,\n",
              "  2.482314109802246,\n",
              "  2.5280215740203857,\n",
              "  2.536087989807129,\n",
              "  2.494250774383545,\n",
              "  2.535876989364624,\n",
              "  2.4885451793670654,\n",
              "  2.5268714427948,\n",
              "  2.523732900619507,\n",
              "  2.497667074203491,\n",
              "  2.4827518463134766,\n",
              "  2.4705417156219482,\n",
              "  2.5237464904785156,\n",
              "  2.4791150093078613,\n",
              "  2.4527080059051514,\n",
              "  2.500669479370117,\n",
              "  2.49257493019104,\n",
              "  2.4737250804901123,\n",
              "  2.4722156524658203,\n",
              "  2.505361318588257,\n",
              "  2.5460028648376465,\n",
              "  2.5788803100585938,\n",
              "  2.4671127796173096,\n",
              "  2.542208194732666,\n",
              "  2.537205457687378,\n",
              "  2.4841232299804688,\n",
              "  2.4746382236480713,\n",
              "  2.527851104736328,\n",
              "  2.539761781692505,\n",
              "  2.513500213623047,\n",
              "  2.538301467895508,\n",
              "  2.594740390777588,\n",
              "  2.535890817642212,\n",
              "  2.513664722442627,\n",
              "  2.5090785026550293,\n",
              "  2.5622973442077637,\n",
              "  2.5332236289978027,\n",
              "  2.5360875129699707,\n",
              "  2.516772985458374,\n",
              "  2.474447250366211,\n",
              "  2.477066993713379,\n",
              "  2.5484089851379395,\n",
              "  2.457307815551758,\n",
              "  2.489022970199585,\n",
              "  2.4977569580078125,\n",
              "  2.549006462097168,\n",
              "  2.502601385116577,\n",
              "  2.5030505657196045,\n",
              "  2.4729692935943604,\n",
              "  2.537611484527588,\n",
              "  2.50104022026062,\n",
              "  2.5239338874816895,\n",
              "  2.529233455657959,\n",
              "  2.5111136436462402,\n",
              "  2.520343065261841,\n",
              "  2.5021657943725586,\n",
              "  2.492617607116699,\n",
              "  2.6035876274108887,\n",
              "  2.523897647857666,\n",
              "  2.5315208435058594,\n",
              "  2.4855244159698486,\n",
              "  2.4722232818603516,\n",
              "  2.5442495346069336,\n",
              "  2.562420606613159,\n",
              "  2.479891538619995,\n",
              "  2.4956958293914795,\n",
              "  2.4976305961608887,\n",
              "  2.556377649307251,\n",
              "  2.5250601768493652,\n",
              "  2.546534776687622,\n",
              "  2.539245367050171,\n",
              "  2.4991965293884277,\n",
              "  2.564514398574829,\n",
              "  2.5091328620910645,\n",
              "  2.491593837738037,\n",
              "  2.5385358333587646,\n",
              "  2.5637316703796387,\n",
              "  2.533067226409912,\n",
              "  2.5206120014190674,\n",
              "  2.5267419815063477,\n",
              "  2.5302975177764893,\n",
              "  2.477752447128296,\n",
              "  2.5037314891815186,\n",
              "  2.6126232147216797,\n",
              "  2.496951103210449,\n",
              "  2.628223180770874,\n",
              "  2.493131637573242,\n",
              "  2.531386375427246,\n",
              "  2.5079760551452637,\n",
              "  2.5065627098083496,\n",
              "  2.5065624713897705,\n",
              "  2.523742914199829,\n",
              "  2.5280041694641113,\n",
              "  2.5754165649414062,\n",
              "  2.5017170906066895,\n",
              "  2.5427958965301514,\n",
              "  2.524080753326416,\n",
              "  2.524752140045166,\n",
              "  2.516887903213501,\n",
              "  2.5738461017608643,\n",
              "  2.543306589126587,\n",
              "  2.5881335735321045,\n",
              "  2.5201542377471924],\n",
              " [21.72463035583496,\n",
              "  18.266773223876953,\n",
              "  13.353153228759766,\n",
              "  8.7975492477417,\n",
              "  7.142362594604492,\n",
              "  6.0723114013671875,\n",
              "  5.276882171630859,\n",
              "  4.6093597412109375,\n",
              "  4.269981861114502,\n",
              "  3.9457285404205322,\n",
              "  3.7011146545410156,\n",
              "  3.434980630874634,\n",
              "  3.3691506385803223,\n",
              "  3.207758903503418,\n",
              "  3.1133174896240234,\n",
              "  2.980297327041626,\n",
              "  2.8577566146850586,\n",
              "  2.9869484901428223,\n",
              "  2.8185677528381348,\n",
              "  2.7488348484039307,\n",
              "  2.662494659423828,\n",
              "  2.6817898750305176,\n",
              "  2.662351608276367,\n",
              "  2.569110870361328,\n",
              "  2.6101605892181396,\n",
              "  2.5898711681365967,\n",
              "  2.6727263927459717,\n",
              "  2.559983253479004,\n",
              "  2.5896048545837402,\n",
              "  2.5298681259155273,\n",
              "  2.5396339893341064,\n",
              "  2.5429248809814453,\n",
              "  2.6216788291931152,\n",
              "  2.5461947917938232,\n",
              "  2.7353403568267822,\n",
              "  2.670515298843384,\n",
              "  2.5240821838378906,\n",
              "  2.4550116062164307,\n",
              "  2.5543887615203857,\n",
              "  2.5578129291534424,\n",
              "  2.482235908508301,\n",
              "  2.469123125076294,\n",
              "  2.521190881729126,\n",
              "  2.456261396408081,\n",
              "  2.405526876449585,\n",
              "  2.4145419597625732,\n",
              "  2.430309534072876,\n",
              "  2.39089035987854,\n",
              "  2.431774377822876,\n",
              "  2.459624767303467,\n",
              "  2.37753963470459,\n",
              "  2.3953030109405518,\n",
              "  2.4371352195739746,\n",
              "  2.4433722496032715,\n",
              "  2.3941025733947754,\n",
              "  2.384235382080078,\n",
              "  2.437091827392578,\n",
              "  2.379166603088379,\n",
              "  2.359890937805176,\n",
              "  2.343351125717163,\n",
              "  2.421194553375244,\n",
              "  2.3722410202026367,\n",
              "  2.375792980194092,\n",
              "  2.4463889598846436,\n",
              "  2.4342503547668457,\n",
              "  2.4429872035980225,\n",
              "  2.388420343399048,\n",
              "  2.3496952056884766,\n",
              "  2.3646399974823,\n",
              "  2.384876251220703,\n",
              "  2.378312826156616,\n",
              "  2.356597661972046,\n",
              "  2.416982412338257,\n",
              "  2.3682751655578613,\n",
              "  2.3320207595825195,\n",
              "  2.328296422958374,\n",
              "  2.4169654846191406,\n",
              "  2.3381950855255127,\n",
              "  2.4023072719573975,\n",
              "  2.3471884727478027,\n",
              "  2.4245150089263916,\n",
              "  2.4792308807373047,\n",
              "  2.369474411010742,\n",
              "  2.403284788131714,\n",
              "  2.325955390930176,\n",
              "  2.348939895629883,\n",
              "  2.394191265106201,\n",
              "  2.3426384925842285,\n",
              "  2.453853130340576,\n",
              "  2.377044439315796,\n",
              "  2.3279922008514404,\n",
              "  2.3377416133880615,\n",
              "  2.3547892570495605,\n",
              "  2.324620246887207,\n",
              "  2.389202356338501,\n",
              "  2.389995574951172,\n",
              "  2.3155694007873535,\n",
              "  2.3688929080963135,\n",
              "  2.2740585803985596,\n",
              "  2.3093650341033936,\n",
              "  2.3508682250976562,\n",
              "  2.5163087844848633,\n",
              "  2.331711769104004,\n",
              "  2.398049831390381,\n",
              "  2.2969181537628174,\n",
              "  2.3500800132751465,\n",
              "  2.284926414489746,\n",
              "  2.3237502574920654,\n",
              "  2.298133134841919,\n",
              "  2.4207160472869873,\n",
              "  2.3247265815734863,\n",
              "  2.3774688243865967,\n",
              "  2.3641583919525146,\n",
              "  2.3325254917144775,\n",
              "  2.361345052719116,\n",
              "  2.392763376235962,\n",
              "  2.2771286964416504,\n",
              "  2.2903788089752197,\n",
              "  2.322965145111084,\n",
              "  2.3183138370513916,\n",
              "  2.298121929168701,\n",
              "  2.2781810760498047,\n",
              "  2.3028674125671387,\n",
              "  2.2942874431610107,\n",
              "  2.3368875980377197,\n",
              "  2.3837294578552246,\n",
              "  2.3596160411834717,\n",
              "  2.3167669773101807,\n",
              "  2.2803521156311035,\n",
              "  2.357377529144287,\n",
              "  2.4982619285583496,\n",
              "  2.285954475402832,\n",
              "  2.3700554370880127,\n",
              "  2.2926902770996094,\n",
              "  2.3140628337860107,\n",
              "  2.327519416809082,\n",
              "  2.3342366218566895,\n",
              "  2.289630889892578,\n",
              "  2.36894154548645,\n",
              "  2.3209593296051025,\n",
              "  2.3145947456359863,\n",
              "  2.367619752883911,\n",
              "  2.3473243713378906,\n",
              "  2.370006799697876,\n",
              "  2.2959232330322266,\n",
              "  2.4007046222686768,\n",
              "  2.308100700378418,\n",
              "  2.3738818168640137,\n",
              "  2.4582431316375732,\n",
              "  2.3441321849823,\n",
              "  2.314732551574707,\n",
              "  2.3866078853607178,\n",
              "  2.3415422439575195,\n",
              "  2.3331899642944336,\n",
              "  2.3368642330169678,\n",
              "  2.3440802097320557,\n",
              "  2.4229774475097656,\n",
              "  2.3398499488830566,\n",
              "  2.322726249694824,\n",
              "  2.363347291946411,\n",
              "  2.2924768924713135,\n",
              "  2.3116447925567627,\n",
              "  2.3471944332122803,\n",
              "  2.3481922149658203,\n",
              "  2.377142906188965,\n",
              "  2.3271360397338867,\n",
              "  2.342902183532715,\n",
              "  2.288576602935791,\n",
              "  2.376718282699585,\n",
              "  2.326927423477173,\n",
              "  2.4255170822143555,\n",
              "  2.3693079948425293,\n",
              "  2.303046941757202,\n",
              "  2.371439218521118,\n",
              "  2.3699991703033447,\n",
              "  2.328744649887085,\n",
              "  2.3254940509796143,\n",
              "  2.3627943992614746,\n",
              "  2.3958382606506348,\n",
              "  2.391392707824707,\n",
              "  2.311821222305298,\n",
              "  2.298116445541382,\n",
              "  2.312260150909424,\n",
              "  2.3329906463623047,\n",
              "  2.311403751373291,\n",
              "  2.4219472408294678,\n",
              "  2.3264875411987305,\n",
              "  2.397695302963257,\n",
              "  2.2952845096588135,\n",
              "  2.4453136920928955,\n",
              "  2.340916156768799,\n",
              "  2.297111988067627,\n",
              "  2.380300760269165,\n",
              "  2.3785312175750732,\n",
              "  2.4025912284851074,\n",
              "  2.3247244358062744,\n",
              "  2.269258737564087,\n",
              "  2.291827440261841,\n",
              "  2.373770236968994,\n",
              "  2.3290255069732666,\n",
              "  2.3903491497039795,\n",
              "  2.30120587348938,\n",
              "  2.3094944953918457,\n",
              "  2.297426462173462,\n",
              "  2.3568601608276367,\n",
              "  2.292102813720703,\n",
              "  2.333630323410034,\n",
              "  2.2940661907196045,\n",
              "  2.3162426948547363,\n",
              "  2.356417655944824,\n",
              "  2.3940799236297607,\n",
              "  2.292316198348999,\n",
              "  2.3438682556152344,\n",
              "  2.3635876178741455,\n",
              "  2.3189473152160645,\n",
              "  2.4431562423706055,\n",
              "  2.311100482940674,\n",
              "  2.3177788257598877,\n",
              "  2.2778127193450928,\n",
              "  2.328139543533325,\n",
              "  2.3450376987457275,\n",
              "  2.337307929992676,\n",
              "  2.2818663120269775,\n",
              "  2.3651373386383057,\n",
              "  2.4032254219055176,\n",
              "  2.317959785461426,\n",
              "  2.2867865562438965,\n",
              "  2.3059616088867188,\n",
              "  2.283864736557007,\n",
              "  2.23584246635437,\n",
              "  2.289661407470703,\n",
              "  2.2681849002838135,\n",
              "  2.331256866455078,\n",
              "  2.265833616256714,\n",
              "  2.3637804985046387,\n",
              "  2.329740047454834,\n",
              "  2.260882616043091,\n",
              "  2.2819697856903076,\n",
              "  2.2655906677246094,\n",
              "  2.4569292068481445,\n",
              "  2.256791114807129,\n",
              "  2.3027331829071045,\n",
              "  2.3465733528137207,\n",
              "  2.2667689323425293,\n",
              "  2.315883159637451,\n",
              "  2.3379790782928467,\n",
              "  2.28214693069458,\n",
              "  2.283419132232666,\n",
              "  2.2472524642944336,\n",
              "  2.3376858234405518,\n",
              "  2.275540590286255,\n",
              "  2.288257360458374,\n",
              "  2.2825772762298584,\n",
              "  2.2765657901763916,\n",
              "  2.311615467071533,\n",
              "  2.3046557903289795,\n",
              "  2.3221654891967773,\n",
              "  2.2900846004486084,\n",
              "  2.3334338665008545,\n",
              "  2.3386690616607666,\n",
              "  2.28085994720459,\n",
              "  2.249462842941284,\n",
              "  2.300025224685669,\n",
              "  2.248420000076294,\n",
              "  2.2724826335906982,\n",
              "  2.365921974182129,\n",
              "  2.2176456451416016,\n",
              "  2.223810911178589,\n",
              "  2.2676966190338135,\n",
              "  2.2588303089141846,\n",
              "  2.3033223152160645,\n",
              "  2.2048659324645996,\n",
              "  2.2429563999176025,\n",
              "  2.3010125160217285,\n",
              "  2.2769417762756348,\n",
              "  2.2476742267608643,\n",
              "  2.2337493896484375,\n",
              "  2.2573347091674805,\n",
              "  2.3012118339538574,\n",
              "  2.226370334625244,\n",
              "  2.2643988132476807,\n",
              "  2.3093338012695312,\n",
              "  2.2532718181610107,\n",
              "  2.2406363487243652,\n",
              "  2.235154628753662,\n",
              "  2.3324100971221924,\n",
              "  2.223384141921997,\n",
              "  2.3022313117980957,\n",
              "  2.2759876251220703,\n",
              "  2.3154497146606445,\n",
              "  2.296109199523926,\n",
              "  2.255671977996826,\n",
              "  2.2375338077545166,\n",
              "  2.2389912605285645,\n",
              "  2.2278175354003906,\n",
              "  2.255990505218506,\n",
              "  2.2189831733703613,\n",
              "  2.3073573112487793,\n",
              "  2.245837688446045,\n",
              "  2.2583320140838623,\n",
              "  2.224191904067993,\n",
              "  2.238560914993286,\n",
              "  2.2584147453308105,\n",
              "  2.212916851043701,\n",
              "  2.254615068435669,\n",
              "  2.3053367137908936,\n",
              "  2.2716081142425537,\n",
              "  2.314603567123413,\n",
              "  2.2530815601348877,\n",
              "  2.2611496448516846,\n",
              "  2.239436388015747,\n",
              "  2.2335071563720703,\n",
              "  2.2673542499542236,\n",
              "  2.2387795448303223,\n",
              "  2.2089297771453857,\n",
              "  2.260983943939209,\n",
              "  2.219038248062134,\n",
              "  2.188138961791992,\n",
              "  2.229156017303467,\n",
              "  2.2223761081695557,\n",
              "  2.2306272983551025,\n",
              "  2.2853429317474365,\n",
              "  2.2752907276153564,\n",
              "  2.24181866645813,\n",
              "  2.1842715740203857,\n",
              "  2.289854049682617,\n",
              "  2.2424612045288086,\n",
              "  2.2402255535125732,\n",
              "  2.2120473384857178,\n",
              "  2.213667392730713,\n",
              "  2.212099313735962,\n",
              "  2.179750442504883,\n",
              "  2.2305173873901367,\n",
              "  2.218618869781494,\n",
              "  2.1844162940979004,\n",
              "  2.1770427227020264,\n",
              "  2.283266067504883,\n",
              "  2.187939405441284,\n",
              "  2.2551634311676025,\n",
              "  2.2856504917144775,\n",
              "  2.2745211124420166,\n",
              "  2.2691054344177246,\n",
              "  2.3272273540496826,\n",
              "  2.193636655807495,\n",
              "  2.2023229598999023,\n",
              "  2.2176947593688965,\n",
              "  2.173316240310669,\n",
              "  2.270395278930664,\n",
              "  2.176788330078125,\n",
              "  2.2322607040405273,\n",
              "  2.2651028633117676,\n",
              "  2.2042644023895264,\n",
              "  2.2097177505493164,\n",
              "  2.2429704666137695,\n",
              "  2.2603185176849365,\n",
              "  2.2121543884277344,\n",
              "  2.338754415512085,\n",
              "  2.2279884815216064,\n",
              "  2.306122064590454,\n",
              "  2.1992545127868652,\n",
              "  2.1969356536865234,\n",
              "  2.2277603149414062,\n",
              "  2.250540018081665,\n",
              "  2.210456371307373,\n",
              "  2.2547478675842285,\n",
              "  2.1863224506378174,\n",
              "  2.3733553886413574,\n",
              "  2.3057940006256104,\n",
              "  2.263570547103882,\n",
              "  2.2633824348449707,\n",
              "  2.3367271423339844,\n",
              "  2.288756847381592,\n",
              "  2.231712818145752,\n",
              "  2.3192436695098877,\n",
              "  2.2112033367156982,\n",
              "  2.241448402404785,\n",
              "  2.239318609237671,\n",
              "  2.2173871994018555,\n",
              "  2.2652742862701416,\n",
              "  2.2588677406311035,\n",
              "  2.2695231437683105,\n",
              "  2.1839256286621094,\n",
              "  2.3200228214263916,\n",
              "  2.254631280899048,\n",
              "  2.235844135284424,\n",
              "  2.255124807357788,\n",
              "  2.3042044639587402,\n",
              "  2.2628209590911865,\n",
              "  2.2144248485565186,\n",
              "  2.2453818321228027,\n",
              "  2.338787794113159,\n",
              "  2.2152719497680664,\n",
              "  2.267353057861328,\n",
              "  2.257749557495117,\n",
              "  2.373513698577881,\n",
              "  2.2579500675201416,\n",
              "  2.31372332572937,\n",
              "  2.206156015396118,\n",
              "  2.235361337661743,\n",
              "  2.403040885925293,\n",
              "  2.2639212608337402,\n",
              "  2.307323455810547,\n",
              "  2.3632218837738037,\n",
              "  2.26994252204895,\n",
              "  2.2535006999969482,\n",
              "  2.248431444168091,\n",
              "  2.245465040206909,\n",
              "  2.2292392253875732,\n",
              "  2.261497974395752,\n",
              "  2.2379565238952637,\n",
              "  2.2150118350982666,\n",
              "  2.2196614742279053,\n",
              "  2.248410701751709,\n",
              "  2.332482099533081,\n",
              "  2.3493118286132812,\n",
              "  2.2764217853546143,\n",
              "  2.324310541152954,\n",
              "  2.372669219970703,\n",
              "  2.2655692100524902,\n",
              "  2.2620797157287598,\n",
              "  2.3172850608825684,\n",
              "  2.2596232891082764,\n",
              "  2.367417097091675,\n",
              "  2.2667758464813232,\n",
              "  2.3567569255828857,\n",
              "  2.3192975521087646,\n",
              "  2.296186923980713,\n",
              "  2.277245283126831,\n",
              "  2.2822654247283936,\n",
              "  2.2979817390441895,\n",
              "  2.301356077194214,\n",
              "  2.311891555786133,\n",
              "  2.2618229389190674,\n",
              "  2.236701488494873,\n",
              "  2.273524045944214,\n",
              "  2.284187078475952,\n",
              "  2.2235984802246094,\n",
              "  2.2413887977600098,\n",
              "  2.2416110038757324,\n",
              "  2.2412352561950684,\n",
              "  2.294160842895508,\n",
              "  2.2350308895111084,\n",
              "  2.391026258468628,\n",
              "  2.2681946754455566,\n",
              "  2.283886671066284,\n",
              "  2.274911403656006,\n",
              "  2.3642935752868652,\n",
              "  2.2916126251220703,\n",
              "  2.269343376159668,\n",
              "  2.256848096847534,\n",
              "  2.309034824371338,\n",
              "  2.2914042472839355,\n",
              "  2.3593695163726807,\n",
              "  2.328381061553955,\n",
              "  2.300269603729248,\n",
              "  2.235910654067993,\n",
              "  2.290264368057251,\n",
              "  2.337151050567627,\n",
              "  2.3489513397216797,\n",
              "  2.2968943119049072,\n",
              "  2.292159080505371,\n",
              "  2.2631447315216064,\n",
              "  2.2936673164367676,\n",
              "  2.291745901107788,\n",
              "  2.259605884552002,\n",
              "  2.3277230262756348,\n",
              "  2.2729411125183105,\n",
              "  2.255671501159668,\n",
              "  2.2370758056640625,\n",
              "  2.2536020278930664,\n",
              "  2.246450901031494,\n",
              "  2.2465591430664062,\n",
              "  2.2515242099761963,\n",
              "  2.263746500015259,\n",
              "  2.6314826011657715,\n",
              "  2.3039755821228027,\n",
              "  2.292224168777466,\n",
              "  2.2670981884002686,\n",
              "  2.3598594665527344,\n",
              "  2.2990691661834717,\n",
              "  2.31447696685791,\n",
              "  2.287709951400757,\n",
              "  2.2568836212158203,\n",
              "  2.315316915512085,\n",
              "  2.3398120403289795,\n",
              "  2.2806007862091064,\n",
              "  2.2899680137634277,\n",
              "  2.3227806091308594,\n",
              "  2.352760076522827,\n",
              "  2.3020524978637695,\n",
              "  2.3595733642578125,\n",
              "  2.3047337532043457,\n",
              "  2.287013530731201,\n",
              "  2.3398208618164062,\n",
              "  2.3092963695526123,\n",
              "  2.326287031173706,\n",
              "  2.280073881149292,\n",
              "  2.2632126808166504,\n",
              "  2.354818344116211,\n",
              "  2.2898881435394287]]"
            ]
          },
          "metadata": {},
          "execution_count": 72
        }
      ]
    },
    {
      "cell_type": "code",
      "source": [
        "k = 4\n",
        "num_val_samples = len(train_data) // k\n",
        "num_epochs = 100\n",
        "\n",
        "\n",
        "i = 0\n",
        "print(i * num_val_samples, (i + 1) * num_val_samples)"
      ],
      "metadata": {
        "colab": {
          "base_uri": "https://localhost:8080/"
        },
        "id": "P8HKV44ATojQ",
        "outputId": "4f4d1f29-7240-40c6-d741-d9c3cae99671"
      },
      "execution_count": 56,
      "outputs": [
        {
          "output_type": "stream",
          "name": "stdout",
          "text": [
            "0 101\n"
          ]
        }
      ]
    },
    {
      "cell_type": "code",
      "source": [
        "import numpy as np"
      ],
      "metadata": {
        "id": "ofU5h_z1UDa7"
      },
      "execution_count": 57,
      "outputs": []
    },
    {
      "cell_type": "code",
      "execution_count": 58,
      "metadata": {
        "id": "eW9DvW9vBKIi",
        "colab": {
          "base_uri": "https://localhost:8080/"
        },
        "outputId": "0ee3e077-0e29-4a58-b75e-a41cc88949ce"
      },
      "outputs": [
        {
          "output_type": "stream",
          "name": "stdout",
          "text": [
            "Processing fold #0\n",
            "Processing fold #1\n",
            "Processing fold #2\n",
            "Processing fold #3\n"
          ]
        }
      ],
      "source": [
        "k = 4\n",
        "num_val_samples = len(train_data) // k\n",
        "num_epochs = 100\n",
        "all_scores = []\n",
        "for i in range(k):\n",
        "    print(f\"Processing fold #{i}\")\n",
        "    val_data = train_data[i * num_val_samples: (i + 1) * num_val_samples]\n",
        "    val_targets = train_targets[i * num_val_samples: (i + 1) * num_val_samples]\n",
        "    partial_train_data = np.concatenate(\n",
        "        [train_data[:i * num_val_samples],\n",
        "         train_data[(i + 1) * num_val_samples:]],\n",
        "        axis=0)\n",
        "    partial_train_targets = np.concatenate(\n",
        "        [train_targets[:i * num_val_samples],\n",
        "         train_targets[(i + 1) * num_val_samples:]],\n",
        "        axis=0)\n",
        "    model = build_model()\n",
        "    model.fit(partial_train_data, partial_train_targets,\n",
        "              epochs=num_epochs, batch_size=16, verbose=0)\n",
        "    val_mse, val_mae = model.evaluate(val_data, val_targets, verbose=0)\n",
        "    all_scores.append(val_mae)"
      ]
    },
    {
      "cell_type": "code",
      "execution_count": 59,
      "metadata": {
        "id": "N8Xw0ko5BKIi",
        "colab": {
          "base_uri": "https://localhost:8080/"
        },
        "outputId": "46f7bbb8-7f55-4186-f19a-d538c780264e"
      },
      "outputs": [
        {
          "output_type": "execute_result",
          "data": {
            "text/plain": [
              "[2.084362268447876, 2.558492422103882, 2.4084877967834473, 2.5194904804229736]"
            ]
          },
          "metadata": {},
          "execution_count": 59
        }
      ],
      "source": [
        "all_scores"
      ]
    },
    {
      "cell_type": "code",
      "execution_count": 60,
      "metadata": {
        "id": "_zyKvLjqBKIj",
        "colab": {
          "base_uri": "https://localhost:8080/"
        },
        "outputId": "ad502b18-5989-49f8-ef11-789720602e67"
      },
      "outputs": [
        {
          "output_type": "execute_result",
          "data": {
            "text/plain": [
              "np.float64(2.3927082419395447)"
            ]
          },
          "metadata": {},
          "execution_count": 60
        }
      ],
      "source": [
        "np.mean(all_scores)"
      ]
    },
    {
      "cell_type": "markdown",
      "metadata": {
        "id": "VeZu99fMBKIj"
      },
      "source": [
        "**Saving the validation logs at each fold**"
      ]
    },
    {
      "cell_type": "code",
      "execution_count": 61,
      "metadata": {
        "id": "Z9Cdx8INBKIj",
        "colab": {
          "base_uri": "https://localhost:8080/"
        },
        "outputId": "81303d0c-7636-4caa-b562-23cd7ab3edcf"
      },
      "outputs": [
        {
          "output_type": "stream",
          "name": "stdout",
          "text": [
            "Processing fold #0\n",
            "Processing fold #1\n",
            "Processing fold #2\n",
            "Processing fold #3\n"
          ]
        }
      ],
      "source": [
        "num_epochs = 500\n",
        "all_mae_histories = []\n",
        "for i in range(k):\n",
        "    print(f\"Processing fold #{i}\")\n",
        "    val_data = train_data[i * num_val_samples: (i + 1) * num_val_samples]\n",
        "    val_targets = train_targets[i * num_val_samples: (i + 1) * num_val_samples]\n",
        "    partial_train_data = np.concatenate(\n",
        "        [train_data[:i * num_val_samples],\n",
        "         train_data[(i + 1) * num_val_samples:]],\n",
        "        axis=0)\n",
        "    partial_train_targets = np.concatenate(\n",
        "        [train_targets[:i * num_val_samples],\n",
        "         train_targets[(i + 1) * num_val_samples:]],\n",
        "        axis=0)\n",
        "    model = build_model()\n",
        "    history = model.fit(partial_train_data, partial_train_targets,\n",
        "                        validation_data=(val_data, val_targets),\n",
        "                        epochs=num_epochs, batch_size=16, verbose=0)\n",
        "    mae_history = history.history[\"val_mae\"]\n",
        "    all_mae_histories.append(mae_history)"
      ]
    },
    {
      "cell_type": "markdown",
      "metadata": {
        "id": "lxHHQnRVBKIj"
      },
      "source": [
        "**Building the history of successive mean K-fold validation scores**"
      ]
    },
    {
      "cell_type": "code",
      "source": [
        "len(all_mae_histories)"
      ],
      "metadata": {
        "colab": {
          "base_uri": "https://localhost:8080/"
        },
        "id": "SjgdsywvVVc3",
        "outputId": "255adbcd-de11-436f-e8a2-01ef471bbcea"
      },
      "execution_count": 68,
      "outputs": [
        {
          "output_type": "execute_result",
          "data": {
            "text/plain": [
              "4"
            ]
          },
          "metadata": {},
          "execution_count": 68
        }
      ]
    },
    {
      "cell_type": "code",
      "source": [
        "len(all_mae_histories[0])"
      ],
      "metadata": {
        "colab": {
          "base_uri": "https://localhost:8080/"
        },
        "id": "p5tfl4PNVX1_",
        "outputId": "fdacb098-2da8-4d17-92c7-15df5b612c21"
      },
      "execution_count": 69,
      "outputs": [
        {
          "output_type": "execute_result",
          "data": {
            "text/plain": [
              "500"
            ]
          },
          "metadata": {},
          "execution_count": 69
        }
      ]
    },
    {
      "cell_type": "code",
      "source": [
        "np.mean([x[0] for x in all_mae_histories])"
      ],
      "metadata": {
        "colab": {
          "base_uri": "https://localhost:8080/"
        },
        "id": "CxJyUwDJVpMn",
        "outputId": "fb2a2157-3e65-435a-b36b-affb916f40c6"
      },
      "execution_count": 71,
      "outputs": [
        {
          "output_type": "execute_result",
          "data": {
            "text/plain": [
              "np.float64(19.119523525238037)"
            ]
          },
          "metadata": {},
          "execution_count": 71
        }
      ]
    },
    {
      "cell_type": "code",
      "execution_count": 62,
      "metadata": {
        "id": "Eb6AwOQBBKIj"
      },
      "outputs": [],
      "source": [
        "average_mae_history = [\n",
        "    np.mean([x[i] for x in all_mae_histories]) for i in range(num_epochs)]"
      ]
    },
    {
      "cell_type": "markdown",
      "metadata": {
        "id": "sU-kEqhmBKIj"
      },
      "source": [
        "**Plotting validation scores**"
      ]
    },
    {
      "cell_type": "code",
      "execution_count": 63,
      "metadata": {
        "id": "has851dNBKIj",
        "colab": {
          "base_uri": "https://localhost:8080/",
          "height": 449
        },
        "outputId": "49bcba7d-8065-472a-bc12-aa72461de9ff"
      },
      "outputs": [
        {
          "output_type": "display_data",
          "data": {
            "text/plain": [
              "<Figure size 640x480 with 1 Axes>"
            ],
            "image/png": "[encoded data removed]"
          },
          "metadata": {}
        }
      ],
      "source": [
        "plt.plot(range(1, len(average_mae_history) + 1), average_mae_history)\n",
        "plt.xlabel(\"Epochs\")\n",
        "plt.ylabel(\"Validation MAE\")\n",
        "plt.show()"
      ]
    },
    {
      "cell_type": "markdown",
      "metadata": {
        "id": "mLP9572rBKIj"
      },
      "source": [
        "**Plotting validation scores, excluding the first 10 data points**"
      ]
    },
    {
      "cell_type": "code",
      "execution_count": 64,
      "metadata": {
        "id": "Ic5beE9VBKIj",
        "colab": {
          "base_uri": "https://localhost:8080/",
          "height": 453
        },
        "outputId": "37edf64a-ae7e-4ee5-89b7-2397f0598fbd"
      },
      "outputs": [
        {
          "output_type": "display_data",
          "data": {
            "text/plain": [
              "<Figure size 640x480 with 1 Axes>"
            ],
            "image/png": "[encoded data removed]"
          },
          "metadata": {}
        }
      ],
      "source": [
        "truncated_mae_history = average_mae_history[10:]\n",
        "plt.plot(range(1, len(truncated_mae_history) + 1), truncated_mae_history)\n",
        "plt.xlabel(\"Epochs\")\n",
        "plt.ylabel(\"Validation MAE\")\n",
        "plt.show()"
      ]
    },
    {
      "cell_type": "markdown",
      "metadata": {
        "id": "F6x0V53HBKIk"
      },
      "source": [
        "**Training the final model**"
      ]
    },
    {
      "cell_type": "code",
      "execution_count": 65,
      "metadata": {
        "id": "YR2Wo9lDBKIk",
        "colab": {
          "base_uri": "https://localhost:8080/"
        },
        "outputId": "525f0f27-6442-4d9c-9d82-5a515b42be40"
      },
      "outputs": [
        {
          "output_type": "stream",
          "name": "stdout",
          "text": [
            "\u001b[1m4/4\u001b[0m \u001b[32m━━━━━━━━━━━━━━━━━━━━\u001b[0m\u001b[37m\u001b[0m \u001b[1m0s\u001b[0m 58ms/step - loss: 13.4434 - mae: 2.5455\n"
          ]
        }
      ],
      "source": [
        "model = build_model()\n",
        "model.fit(train_data, train_targets,\n",
        "          epochs=130, batch_size=16, verbose=0)\n",
        "test_mse_score, test_mae_score = model.evaluate(test_data, test_targets)"
      ]
    },
    {
      "cell_type": "code",
      "execution_count": 66,
      "metadata": {
        "id": "lvq5xBSFBKIk",
        "colab": {
          "base_uri": "https://localhost:8080/"
        },
        "outputId": "290b153f-9d24-424c-ea1d-af9d5fd264a2"
      },
      "outputs": [
        {
          "output_type": "execute_result",
          "data": {
            "text/plain": [
              "2.713852882385254"
            ]
          },
          "metadata": {},
          "execution_count": 66
        }
      ],
      "source": [
        "test_mae_score"
      ]
    },
    {
      "cell_type": "markdown",
      "metadata": {
        "id": "AJXJVZ3uBKIk"
      },
      "source": [
        "### Generating predictions on new data"
      ]
    },
    {
      "cell_type": "code",
      "execution_count": 67,
      "metadata": {
        "id": "yjlW0QHwBKIk",
        "colab": {
          "base_uri": "https://localhost:8080/"
        },
        "outputId": "00ed8b07-7f5d-4b77-f778-cbeec5a80ef2"
      },
      "outputs": [
        {
          "output_type": "stream",
          "name": "stdout",
          "text": [
            "\u001b[1m4/4\u001b[0m \u001b[32m━━━━━━━━━━━━━━━━━━━━\u001b[0m\u001b[37m\u001b[0m \u001b[1m0s\u001b[0m 46ms/step\n"
          ]
        },
        {
          "output_type": "execute_result",
          "data": {
            "text/plain": [
              "array([9.657151], dtype=float32)"
            ]
          },
          "metadata": {},
          "execution_count": 67
        }
      ],
      "source": [
        "predictions = model.predict(test_data)\n",
        "predictions[0]"
      ]
    },
    {
      "cell_type": "markdown",
      "metadata": {
        "id": "sfo9hYhSBKIk"
      },
      "source": [
        "### Wrapping up"
      ]
    },
    {
      "cell_type": "markdown",
      "metadata": {
        "id": "NfEy5X7CBKIl"
      },
      "source": [
        "## Summary"
      ]
    }
  ],
  "metadata": {
    "colab": {
      "name": "chapter04_getting-started-with-neural-networks.i",
      "provenance": [],
      "toc_visible": true,
      "gpuType": "T4",
      "include_colab_link": true
    },
    "kernelspec": {
      "display_name": "Python 3",
      "name": "python3"
    },
    "language_info": {
      "codemirror_mode": {
        "name": "ipython",
        "version": 3
      },
      "file_extension": ".py",
      "mimetype": "text/x-python",
      "name": "python",
      "nbconvert_exporter": "python",
      "pygments_lexer": "ipython3",
      "version": "3.7.0"
    },
    "accelerator": "GPU"
  },
  "nbformat": 4,
  "nbformat_minor": 0
}